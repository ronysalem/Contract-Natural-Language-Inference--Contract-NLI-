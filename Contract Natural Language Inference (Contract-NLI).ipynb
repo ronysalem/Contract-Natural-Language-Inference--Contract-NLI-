{
  "metadata": {
    "kernelspec": {
      "language": "python",
      "display_name": "Python 3",
      "name": "python3"
    },
    "language_info": {
      "name": "python",
      "version": "3.10.12",
      "mimetype": "text/x-python",
      "codemirror_mode": {
        "name": "ipython",
        "version": 3
      },
      "pygments_lexer": "ipython3",
      "nbconvert_exporter": "python",
      "file_extension": ".py"
    },
    "colab": {
      "provenance": []
    }
  },
  "nbformat_minor": 0,
  "nbformat": 4,
  "cells": [
    {
      "cell_type": "markdown",
      "source": [
        "##Imports"
      ],
      "metadata": {
        "id": "9iJy8izfiUTp"
      }
    },
    {
      "cell_type": "code",
      "source": [
        "!pip install transformers"
      ],
      "metadata": {
        "id": "VdENwnmWna4I",
        "outputId": "8549579f-a6b7-4c3d-fe22-f678dee36461",
        "execution": {
          "iopub.status.busy": "2023-07-29T21:24:49.638877Z",
          "iopub.execute_input": "2023-07-29T21:24:49.640245Z",
          "iopub.status.idle": "2023-07-29T21:25:04.498108Z",
          "shell.execute_reply.started": "2023-07-29T21:24:49.640200Z",
          "shell.execute_reply": "2023-07-29T21:25:04.496978Z"
        },
        "trusted": true
      },
      "execution_count": null,
      "outputs": [
        {
          "name": "stdout",
          "text": "Requirement already satisfied: transformers in /opt/conda/lib/python3.10/site-packages (4.30.2)\nRequirement already satisfied: filelock in /opt/conda/lib/python3.10/site-packages (from transformers) (3.12.2)\nRequirement already satisfied: huggingface-hub<1.0,>=0.14.1 in /opt/conda/lib/python3.10/site-packages (from transformers) (0.16.4)\nRequirement already satisfied: numpy>=1.17 in /opt/conda/lib/python3.10/site-packages (from transformers) (1.23.5)\nRequirement already satisfied: packaging>=20.0 in /opt/conda/lib/python3.10/site-packages (from transformers) (21.3)\nRequirement already satisfied: pyyaml>=5.1 in /opt/conda/lib/python3.10/site-packages (from transformers) (6.0)\nRequirement already satisfied: regex!=2019.12.17 in /opt/conda/lib/python3.10/site-packages (from transformers) (2023.6.3)\nRequirement already satisfied: requests in /opt/conda/lib/python3.10/site-packages (from transformers) (2.31.0)\nRequirement already satisfied: tokenizers!=0.11.3,<0.14,>=0.11.1 in /opt/conda/lib/python3.10/site-packages (from transformers) (0.13.3)\nRequirement already satisfied: safetensors>=0.3.1 in /opt/conda/lib/python3.10/site-packages (from transformers) (0.3.1)\nRequirement already satisfied: tqdm>=4.27 in /opt/conda/lib/python3.10/site-packages (from transformers) (4.65.0)\nRequirement already satisfied: fsspec in /opt/conda/lib/python3.10/site-packages (from huggingface-hub<1.0,>=0.14.1->transformers) (2023.6.0)\nRequirement already satisfied: typing-extensions>=3.7.4.3 in /opt/conda/lib/python3.10/site-packages (from huggingface-hub<1.0,>=0.14.1->transformers) (4.6.3)\nRequirement already satisfied: pyparsing!=3.0.5,>=2.0.2 in /opt/conda/lib/python3.10/site-packages (from packaging>=20.0->transformers) (3.0.9)\nRequirement already satisfied: charset-normalizer<4,>=2 in /opt/conda/lib/python3.10/site-packages (from requests->transformers) (3.1.0)\nRequirement already satisfied: idna<4,>=2.5 in /opt/conda/lib/python3.10/site-packages (from requests->transformers) (3.4)\nRequirement already satisfied: urllib3<3,>=1.21.1 in /opt/conda/lib/python3.10/site-packages (from requests->transformers) (1.26.15)\nRequirement already satisfied: certifi>=2017.4.17 in /opt/conda/lib/python3.10/site-packages (from requests->transformers) (2023.5.7)\n",
          "output_type": "stream"
        }
      ]
    },
    {
      "cell_type": "code",
      "source": [
        "!pip install transformers[torch]"
      ],
      "metadata": {
        "id": "e7PtZXKNW7OG",
        "outputId": "2db955dc-5b0c-4c42-c1f8-d2d123f25248",
        "execution": {
          "iopub.status.busy": "2023-07-29T21:25:04.500394Z",
          "iopub.execute_input": "2023-07-29T21:25:04.500853Z",
          "iopub.status.idle": "2023-07-29T21:25:16.276170Z",
          "shell.execute_reply.started": "2023-07-29T21:25:04.500812Z",
          "shell.execute_reply": "2023-07-29T21:25:16.274934Z"
        },
        "trusted": true
      },
      "execution_count": null,
      "outputs": [
        {
          "name": "stdout",
          "text": "Requirement already satisfied: transformers[torch] in /opt/conda/lib/python3.10/site-packages (4.30.2)\nRequirement already satisfied: filelock in /opt/conda/lib/python3.10/site-packages (from transformers[torch]) (3.12.2)\nRequirement already satisfied: huggingface-hub<1.0,>=0.14.1 in /opt/conda/lib/python3.10/site-packages (from transformers[torch]) (0.16.4)\nRequirement already satisfied: numpy>=1.17 in /opt/conda/lib/python3.10/site-packages (from transformers[torch]) (1.23.5)\nRequirement already satisfied: packaging>=20.0 in /opt/conda/lib/python3.10/site-packages (from transformers[torch]) (21.3)\nRequirement already satisfied: pyyaml>=5.1 in /opt/conda/lib/python3.10/site-packages (from transformers[torch]) (6.0)\nRequirement already satisfied: regex!=2019.12.17 in /opt/conda/lib/python3.10/site-packages (from transformers[torch]) (2023.6.3)\nRequirement already satisfied: requests in /opt/conda/lib/python3.10/site-packages (from transformers[torch]) (2.31.0)\nRequirement already satisfied: tokenizers!=0.11.3,<0.14,>=0.11.1 in /opt/conda/lib/python3.10/site-packages (from transformers[torch]) (0.13.3)\nRequirement already satisfied: safetensors>=0.3.1 in /opt/conda/lib/python3.10/site-packages (from transformers[torch]) (0.3.1)\nRequirement already satisfied: tqdm>=4.27 in /opt/conda/lib/python3.10/site-packages (from transformers[torch]) (4.65.0)\nRequirement already satisfied: torch!=1.12.0,>=1.9 in /opt/conda/lib/python3.10/site-packages (from transformers[torch]) (2.0.0)\nRequirement already satisfied: accelerate>=0.20.2 in /opt/conda/lib/python3.10/site-packages (from transformers[torch]) (0.20.3)\nRequirement already satisfied: psutil in /opt/conda/lib/python3.10/site-packages (from accelerate>=0.20.2->transformers[torch]) (5.9.3)\nRequirement already satisfied: fsspec in /opt/conda/lib/python3.10/site-packages (from huggingface-hub<1.0,>=0.14.1->transformers[torch]) (2023.6.0)\nRequirement already satisfied: typing-extensions>=3.7.4.3 in /opt/conda/lib/python3.10/site-packages (from huggingface-hub<1.0,>=0.14.1->transformers[torch]) (4.6.3)\nRequirement already satisfied: pyparsing!=3.0.5,>=2.0.2 in /opt/conda/lib/python3.10/site-packages (from packaging>=20.0->transformers[torch]) (3.0.9)\nRequirement already satisfied: sympy in /opt/conda/lib/python3.10/site-packages (from torch!=1.12.0,>=1.9->transformers[torch]) (1.12)\nRequirement already satisfied: networkx in /opt/conda/lib/python3.10/site-packages (from torch!=1.12.0,>=1.9->transformers[torch]) (3.1)\nRequirement already satisfied: jinja2 in /opt/conda/lib/python3.10/site-packages (from torch!=1.12.0,>=1.9->transformers[torch]) (3.1.2)\nRequirement already satisfied: charset-normalizer<4,>=2 in /opt/conda/lib/python3.10/site-packages (from requests->transformers[torch]) (3.1.0)\nRequirement already satisfied: idna<4,>=2.5 in /opt/conda/lib/python3.10/site-packages (from requests->transformers[torch]) (3.4)\nRequirement already satisfied: urllib3<3,>=1.21.1 in /opt/conda/lib/python3.10/site-packages (from requests->transformers[torch]) (1.26.15)\nRequirement already satisfied: certifi>=2017.4.17 in /opt/conda/lib/python3.10/site-packages (from requests->transformers[torch]) (2023.5.7)\nRequirement already satisfied: MarkupSafe>=2.0 in /opt/conda/lib/python3.10/site-packages (from jinja2->torch!=1.12.0,>=1.9->transformers[torch]) (2.1.3)\nRequirement already satisfied: mpmath>=0.19 in /opt/conda/lib/python3.10/site-packages (from sympy->torch!=1.12.0,>=1.9->transformers[torch]) (1.3.0)\n",
          "output_type": "stream"
        }
      ]
    },
    {
      "cell_type": "code",
      "source": [
        "import pandas as pd\n",
        "import numpy as np\n",
        "import matplotlib.pyplot as plt\n",
        "import torch\n",
        "import json\n",
        "import csv\n",
        "from transformers import AutoTokenizer, AutoModelForSequenceClassification, Trainer, TrainingArguments\n",
        "import pandas as pd\n",
        "from sklearn.metrics import accuracy_score, precision_recall_fscore_support\n",
        "from transformers import AutoTokenizer\n",
        "import pickle\n",
        "\n",
        "\n",
        "# the following code ensures that you can see your (print) results for multiple tasks within a coding block\n",
        "from IPython.core.interactiveshell import InteractiveShell\n",
        "InteractiveShell.ast_node_interactivity = \"all\"\n",
        "\n",
        "\n",
        "pd.options.display.width = None"
      ],
      "metadata": {
        "id": "LgvGwy77nFMm",
        "execution": {
          "iopub.status.busy": "2023-07-29T21:25:16.277843Z",
          "iopub.execute_input": "2023-07-29T21:25:16.278232Z",
          "iopub.status.idle": "2023-07-29T21:25:32.370325Z",
          "shell.execute_reply.started": "2023-07-29T21:25:16.278197Z",
          "shell.execute_reply": "2023-07-29T21:25:32.369294Z"
        },
        "trusted": true,
        "outputId": "88c191a0-7a98-40c6-8e25-3b4313203f85"
      },
      "execution_count": null,
      "outputs": [
        {
          "name": "stderr",
          "text": "/opt/conda/lib/python3.10/site-packages/scipy/__init__.py:146: UserWarning: A NumPy version >=1.16.5 and <1.23.0 is required for this version of SciPy (detected version 1.23.5\n  warnings.warn(f\"A NumPy version >={np_minversion} and <{np_maxversion}\"\n/opt/conda/lib/python3.10/site-packages/tensorflow_io/python/ops/__init__.py:98: UserWarning: unable to load libtensorflow_io_plugins.so: unable to open file: libtensorflow_io_plugins.so, from paths: ['/opt/conda/lib/python3.10/site-packages/tensorflow_io/python/ops/libtensorflow_io_plugins.so']\ncaused by: ['/opt/conda/lib/python3.10/site-packages/tensorflow_io/python/ops/libtensorflow_io_plugins.so: undefined symbol: _ZN3tsl6StatusC1EN10tensorflow5error4CodeESt17basic_string_viewIcSt11char_traitsIcEENS_14SourceLocationE']\n  warnings.warn(f\"unable to load libtensorflow_io_plugins.so: {e}\")\n/opt/conda/lib/python3.10/site-packages/tensorflow_io/python/ops/__init__.py:104: UserWarning: file system plugins are not loaded: unable to open file: libtensorflow_io.so, from paths: ['/opt/conda/lib/python3.10/site-packages/tensorflow_io/python/ops/libtensorflow_io.so']\ncaused by: ['/opt/conda/lib/python3.10/site-packages/tensorflow_io/python/ops/libtensorflow_io.so: undefined symbol: _ZTVN10tensorflow13GcsFileSystemE']\n  warnings.warn(f\"file system plugins are not loaded: {e}\")\n",
          "output_type": "stream"
        }
      ]
    },
    {
      "cell_type": "code",
      "source": [
        "# !pip install pyunpack"
      ],
      "metadata": {
        "id": "sBUZpXLWnUm2",
        "execution": {
          "iopub.status.busy": "2023-07-29T21:25:32.372908Z",
          "iopub.execute_input": "2023-07-29T21:25:32.373809Z",
          "iopub.status.idle": "2023-07-29T21:25:32.379593Z",
          "shell.execute_reply.started": "2023-07-29T21:25:32.373770Z",
          "shell.execute_reply": "2023-07-29T21:25:32.378312Z"
        },
        "trusted": true
      },
      "execution_count": null,
      "outputs": []
    },
    {
      "cell_type": "code",
      "source": [
        "# !pip install patool"
      ],
      "metadata": {
        "id": "frh3ztYCoLnI",
        "execution": {
          "iopub.status.busy": "2023-07-28T18:53:49.639160Z",
          "iopub.execute_input": "2023-07-28T18:53:49.639542Z",
          "iopub.status.idle": "2023-07-28T18:53:49.647317Z",
          "shell.execute_reply.started": "2023-07-28T18:53:49.639510Z",
          "shell.execute_reply": "2023-07-28T18:53:49.646421Z"
        },
        "trusted": true
      },
      "execution_count": null,
      "outputs": []
    },
    {
      "cell_type": "markdown",
      "source": [
        "##1- Data statistics and preparation"
      ],
      "metadata": {
        "id": "mnrlC7LOoNGJ"
      }
    },
    {
      "cell_type": "code",
      "source": [
        "# from google.colab import drive\n",
        "# drive.mount('/content/drive')"
      ],
      "metadata": {
        "id": "YA0u7ZVwoU0l",
        "execution": {
          "iopub.status.busy": "2023-07-28T18:53:49.649757Z",
          "iopub.execute_input": "2023-07-28T18:53:49.650507Z",
          "iopub.status.idle": "2023-07-28T18:53:49.658511Z",
          "shell.execute_reply.started": "2023-07-28T18:53:49.650475Z",
          "shell.execute_reply": "2023-07-28T18:53:49.657487Z"
        },
        "trusted": true
      },
      "execution_count": null,
      "outputs": []
    },
    {
      "cell_type": "code",
      "source": [
        "# !gdown https://drive.google.com/uc?id=1QqJw8HQ0qG32_FuOz2HzW2bZdf7UYKa8"
      ],
      "metadata": {
        "id": "e8qMMhvhoVwv",
        "execution": {
          "iopub.status.busy": "2023-07-28T18:53:49.659947Z",
          "iopub.execute_input": "2023-07-28T18:53:49.660276Z",
          "iopub.status.idle": "2023-07-28T18:53:49.673915Z",
          "shell.execute_reply.started": "2023-07-28T18:53:49.660245Z",
          "shell.execute_reply": "2023-07-28T18:53:49.673014Z"
        },
        "trusted": true
      },
      "execution_count": null,
      "outputs": []
    },
    {
      "cell_type": "code",
      "source": [
        "import os\n",
        "for dirname, _, filenames in os.walk('/kaggle/input'):\n",
        "    for filename in filenames:\n",
        "        print(os.path.join(dirname, filename))\n",
        "\n",
        "# You can write up to 20GB to the current directory (/kaggle/working/) that gets preserved as output when you create a version using \"Save & Run All\"\n",
        "# You can also write temporary files to /kaggle/temp/, but they won't be saved outside of the current session"
      ],
      "metadata": {
        "execution": {
          "iopub.status.busy": "2023-07-29T21:25:35.117889Z",
          "iopub.execute_input": "2023-07-29T21:25:35.118375Z",
          "iopub.status.idle": "2023-07-29T21:25:35.126384Z",
          "shell.execute_reply.started": "2023-07-29T21:25:35.118337Z",
          "shell.execute_reply": "2023-07-29T21:25:35.125474Z"
        },
        "trusted": true,
        "id": "GX2DgkD820w-",
        "outputId": "f08ad64e-0ab1-4035-fb07-6fa89f88144a"
      },
      "execution_count": null,
      "outputs": [
        {
          "name": "stdout",
          "text": "/kaggle/input/contract-nli/dev.json\n/kaggle/input/contract-nli/train.json\n/kaggle/input/contract-nli/test.json\n",
          "output_type": "stream"
        }
      ]
    },
    {
      "cell_type": "code",
      "source": [
        "# from pyunpack import Archive\n",
        "# import os\n",
        "\n",
        "# if not os.path.exists(\"Data\"):\n",
        "#     os.makedirs(\"Data\")\n",
        "\n",
        "# Archive(\"contract-nli.zip\").extractall(\"Data\")"
      ],
      "metadata": {
        "id": "OkqYNNO4pEeX",
        "execution": {
          "iopub.status.busy": "2023-07-28T18:53:49.696557Z",
          "iopub.execute_input": "2023-07-28T18:53:49.696946Z",
          "iopub.status.idle": "2023-07-28T18:53:49.703553Z",
          "shell.execute_reply.started": "2023-07-28T18:53:49.696914Z",
          "shell.execute_reply": "2023-07-28T18:53:49.701245Z"
        },
        "trusted": true
      },
      "execution_count": null,
      "outputs": []
    },
    {
      "cell_type": "code",
      "source": [
        "# Setting the paths to the input and output directories\n",
        "input_dir = '/kaggle/input/contract-nli/'\n",
        "output_dir = '/kaggle/working/'"
      ],
      "metadata": {
        "execution": {
          "iopub.status.busy": "2023-07-29T21:25:37.712589Z",
          "iopub.execute_input": "2023-07-29T21:25:37.712947Z",
          "iopub.status.idle": "2023-07-29T21:25:37.717410Z",
          "shell.execute_reply.started": "2023-07-29T21:25:37.712917Z",
          "shell.execute_reply": "2023-07-29T21:25:37.716402Z"
        },
        "trusted": true,
        "id": "fXbLb4wN20xA"
      },
      "execution_count": null,
      "outputs": []
    },
    {
      "cell_type": "code",
      "source": [
        "def convert_json_to_csv(json_file_name, csv_file_name):\n",
        "    # Construct the paths to the input and output files\n",
        "    json_file_path = os.path.join(input_dir, json_file_name)\n",
        "    csv_file_path = os.path.join(output_dir, csv_file_name)\n",
        "\n",
        "    # Load the JSON data\n",
        "    with open(json_file_path, 'r') as f:\n",
        "        data = json.load(f)\n",
        "\n",
        "    # Map annotation choices to label values\n",
        "    label_map = {\n",
        "        'NotMentioned': 'NotMentioned',\n",
        "        'Entailment': 'Entailment',\n",
        "        'Contradiction': 'Contradiction'\n",
        "    }\n",
        "\n",
        "    # Extract the relevant information from the JSON data\n",
        "    rows = []\n",
        "    for document in data['documents']:\n",
        "        text = document['text']\n",
        "        annotation_sets = document['annotation_sets']\n",
        "        for annotation_set in annotation_sets:\n",
        "            annotations = annotation_set['annotations']\n",
        "            for annotation_id, annotation in annotations.items():\n",
        "                if annotation_id in data['labels']:\n",
        "                    choice = annotation['choice']\n",
        "                    label = label_map.get(choice, 'NotMentioned')\n",
        "                    hypothesis = data['labels'][annotation_id]['hypothesis']\n",
        "                    evidence_spans = annotation['spans']\n",
        "                    rows.append([text, hypothesis, label, evidence_spans])\n",
        "\n",
        "    # Write the data to a CSV file\n",
        "    with open(csv_file_path, 'w', newline='') as f:\n",
        "        writer = csv.writer(f)\n",
        "        writer.writerow(['text', 'hypothesis', 'label', 'evidence_spans'])\n",
        "        writer.writerows(rows)\n",
        "\n"
      ],
      "metadata": {
        "id": "32KhgxVdqMSx",
        "execution": {
          "iopub.status.busy": "2023-07-29T21:25:39.112696Z",
          "iopub.execute_input": "2023-07-29T21:25:39.113054Z",
          "iopub.status.idle": "2023-07-29T21:25:39.123088Z",
          "shell.execute_reply.started": "2023-07-29T21:25:39.113024Z",
          "shell.execute_reply": "2023-07-29T21:25:39.122212Z"
        },
        "trusted": true
      },
      "execution_count": null,
      "outputs": []
    },
    {
      "cell_type": "code",
      "source": [
        "convert_json_to_csv('train.json', 'train.csv')\n",
        "convert_json_to_csv('dev.json', 'dev.csv')\n",
        "convert_json_to_csv('test.json', 'test.csv')"
      ],
      "metadata": {
        "id": "nMEpbQfBsAex",
        "execution": {
          "iopub.status.busy": "2023-07-29T21:25:40.841571Z",
          "iopub.execute_input": "2023-07-29T21:25:40.841942Z",
          "iopub.status.idle": "2023-07-29T21:25:46.346271Z",
          "shell.execute_reply.started": "2023-07-29T21:25:40.841912Z",
          "shell.execute_reply": "2023-07-29T21:25:46.345177Z"
        },
        "trusted": true
      },
      "execution_count": null,
      "outputs": []
    },
    {
      "cell_type": "code",
      "source": [
        "train_df = pd.read_csv('/kaggle/working/train.csv')\n",
        "validation_df = pd.read_csv('/kaggle/working/dev.csv')\n",
        "testing_df = pd.read_csv('/kaggle/working/test.csv')"
      ],
      "metadata": {
        "id": "r_esEjpGsZ-b",
        "execution": {
          "iopub.status.busy": "2023-07-29T21:25:46.348409Z",
          "iopub.execute_input": "2023-07-29T21:25:46.348909Z",
          "iopub.status.idle": "2023-07-29T21:25:47.409042Z",
          "shell.execute_reply.started": "2023-07-29T21:25:46.348874Z",
          "shell.execute_reply": "2023-07-29T21:25:47.408044Z"
        },
        "trusted": true
      },
      "execution_count": null,
      "outputs": []
    },
    {
      "cell_type": "code",
      "source": [
        "testing_df"
      ],
      "metadata": {
        "id": "hZQdt9eIsdXr",
        "outputId": "002dffbf-ded9-4e7b-c5f7-49000eca6268",
        "execution": {
          "iopub.status.busy": "2023-07-29T21:25:47.410500Z",
          "iopub.execute_input": "2023-07-29T21:25:47.410956Z",
          "iopub.status.idle": "2023-07-29T21:25:47.435761Z",
          "shell.execute_reply.started": "2023-07-29T21:25:47.410917Z",
          "shell.execute_reply": "2023-07-29T21:25:47.434066Z"
        },
        "trusted": true
      },
      "execution_count": null,
      "outputs": [
        {
          "execution_count": 11,
          "output_type": "execute_result",
          "data": {
            "text/plain": "                                                   text  \\\n0     NON-DISCLOSURE AGREEMENT\\nRequired under JEA's...   \n1     NON-DISCLOSURE AGREEMENT\\nRequired under JEA's...   \n2     NON-DISCLOSURE AGREEMENT\\nRequired under JEA's...   \n3     NON-DISCLOSURE AGREEMENT\\nRequired under JEA's...   \n4     NON-DISCLOSURE AGREEMENT\\nRequired under JEA's...   \n...                                                 ...   \n2086  EXECUTION VERSION\\nNON-DISCLOSURE AND CONFIDEN...   \n2087  EXECUTION VERSION\\nNON-DISCLOSURE AND CONFIDEN...   \n2088  EXECUTION VERSION\\nNON-DISCLOSURE AND CONFIDEN...   \n2089  EXECUTION VERSION\\nNON-DISCLOSURE AND CONFIDEN...   \n2090  EXECUTION VERSION\\nNON-DISCLOSURE AND CONFIDEN...   \n\n                                             hypothesis          label  \\\n0     Receiving Party shall not reverse engineer any...   NotMentioned   \n1     Receiving Party shall destroy or return some C...     Entailment   \n2     Agreement shall not grant Receiving Party any ...     Entailment   \n3     Receiving Party shall not disclose the fact th...   NotMentioned   \n4     Confidential Information shall only include te...  Contradiction   \n...                                                 ...            ...   \n2086  Receiving Party may create a copy of some Conf...   NotMentioned   \n2087  Receiving Party shall notify Disclosing Party ...     Entailment   \n2088  Receiving Party may acquire information simila...     Entailment   \n2089  Receiving Party may share some Confidential In...     Entailment   \n2090  Receiving Party shall not use any Confidential...     Entailment   \n\n     evidence_spans  \n0                []  \n1      [84, 85, 86]  \n2              [45]  \n3                []  \n4          [25, 32]  \n...             ...  \n2086             []  \n2087           [32]  \n2088       [15, 19]  \n2089       [14, 30]  \n2090           [26]  \n\n[2091 rows x 4 columns]",
            "text/html": "<div>\n<style scoped>\n    .dataframe tbody tr th:only-of-type {\n        vertical-align: middle;\n    }\n\n    .dataframe tbody tr th {\n        vertical-align: top;\n    }\n\n    .dataframe thead th {\n        text-align: right;\n    }\n</style>\n<table border=\"1\" class=\"dataframe\">\n  <thead>\n    <tr style=\"text-align: right;\">\n      <th></th>\n      <th>text</th>\n      <th>hypothesis</th>\n      <th>label</th>\n      <th>evidence_spans</th>\n    </tr>\n  </thead>\n  <tbody>\n    <tr>\n      <th>0</th>\n      <td>NON-DISCLOSURE AGREEMENT\\nRequired under JEA's...</td>\n      <td>Receiving Party shall not reverse engineer any...</td>\n      <td>NotMentioned</td>\n      <td>[]</td>\n    </tr>\n    <tr>\n      <th>1</th>\n      <td>NON-DISCLOSURE AGREEMENT\\nRequired under JEA's...</td>\n      <td>Receiving Party shall destroy or return some C...</td>\n      <td>Entailment</td>\n      <td>[84, 85, 86]</td>\n    </tr>\n    <tr>\n      <th>2</th>\n      <td>NON-DISCLOSURE AGREEMENT\\nRequired under JEA's...</td>\n      <td>Agreement shall not grant Receiving Party any ...</td>\n      <td>Entailment</td>\n      <td>[45]</td>\n    </tr>\n    <tr>\n      <th>3</th>\n      <td>NON-DISCLOSURE AGREEMENT\\nRequired under JEA's...</td>\n      <td>Receiving Party shall not disclose the fact th...</td>\n      <td>NotMentioned</td>\n      <td>[]</td>\n    </tr>\n    <tr>\n      <th>4</th>\n      <td>NON-DISCLOSURE AGREEMENT\\nRequired under JEA's...</td>\n      <td>Confidential Information shall only include te...</td>\n      <td>Contradiction</td>\n      <td>[25, 32]</td>\n    </tr>\n    <tr>\n      <th>...</th>\n      <td>...</td>\n      <td>...</td>\n      <td>...</td>\n      <td>...</td>\n    </tr>\n    <tr>\n      <th>2086</th>\n      <td>EXECUTION VERSION\\nNON-DISCLOSURE AND CONFIDEN...</td>\n      <td>Receiving Party may create a copy of some Conf...</td>\n      <td>NotMentioned</td>\n      <td>[]</td>\n    </tr>\n    <tr>\n      <th>2087</th>\n      <td>EXECUTION VERSION\\nNON-DISCLOSURE AND CONFIDEN...</td>\n      <td>Receiving Party shall notify Disclosing Party ...</td>\n      <td>Entailment</td>\n      <td>[32]</td>\n    </tr>\n    <tr>\n      <th>2088</th>\n      <td>EXECUTION VERSION\\nNON-DISCLOSURE AND CONFIDEN...</td>\n      <td>Receiving Party may acquire information simila...</td>\n      <td>Entailment</td>\n      <td>[15, 19]</td>\n    </tr>\n    <tr>\n      <th>2089</th>\n      <td>EXECUTION VERSION\\nNON-DISCLOSURE AND CONFIDEN...</td>\n      <td>Receiving Party may share some Confidential In...</td>\n      <td>Entailment</td>\n      <td>[14, 30]</td>\n    </tr>\n    <tr>\n      <th>2090</th>\n      <td>EXECUTION VERSION\\nNON-DISCLOSURE AND CONFIDEN...</td>\n      <td>Receiving Party shall not use any Confidential...</td>\n      <td>Entailment</td>\n      <td>[26]</td>\n    </tr>\n  </tbody>\n</table>\n<p>2091 rows × 4 columns</p>\n</div>"
          },
          "metadata": {}
        }
      ]
    },
    {
      "cell_type": "markdown",
      "source": [
        "### How the CSVs are created :\n",
        "\n",
        "* I created a function called conver_json_to_csv this function does the following:\n",
        "\n",
        "  * Takes 2 arugments which are the json file path, and the output csv file path\n",
        "\n",
        "  * it starts by loading json data\n",
        "  * Loops through each document in the json data where data['documents'] is a list of dictionaries, with each dictionary representing a document.\n",
        "\n",
        "  * Extracts the text field from the current document storing it in a varibale called Text , and the text is the string represnting the text of the current document \"contract\"\n",
        "\n",
        "  * Extracts the annotation_sets field from the current document\n",
        "\n",
        "  * Loops through each annotation set in the current document where annotations is a dictionary of annotations, with each key being an annotation ID and each value being a dictionary representing an annotation.\n",
        "\n",
        "  * Loops through each annotation in the current annotation set\n",
        "\n",
        "  * Checks if the current annotation has a corresponding label in the data['labels'] dictionary\n",
        "\n",
        "  * Extracts the choice field from the current annotation\n",
        "\n",
        "  * Maps the choice field to a label value using the label_map dictionary"
      ],
      "metadata": {
        "id": "a6J_NXn8tuSJ"
      }
    },
    {
      "cell_type": "markdown",
      "source": [
        "### Statistics"
      ],
      "metadata": {
        "id": "bmNNRy0S7H9N"
      }
    },
    {
      "cell_type": "code",
      "source": [
        "# The number of documents in each set\n",
        "\n",
        "print(f'The Training dataset has {train_df[\"text\"].shape[0]} documents')\n",
        "print(f'The Development dataset has {validation_df[\"text\"].shape[0]} documents')\n",
        "print(f'The Testing dataset has {testing_df[\"text\"].shape[0]} documents')\n"
      ],
      "metadata": {
        "id": "g0dqG0Bg7Mmw",
        "outputId": "3fc91545-1b1d-49cd-dff8-13a85c874044",
        "execution": {
          "iopub.status.busy": "2023-07-29T21:25:47.523855Z",
          "iopub.execute_input": "2023-07-29T21:25:47.524809Z",
          "iopub.status.idle": "2023-07-29T21:25:47.531839Z",
          "shell.execute_reply.started": "2023-07-29T21:25:47.524780Z",
          "shell.execute_reply": "2023-07-29T21:25:47.530577Z"
        },
        "trusted": true
      },
      "execution_count": null,
      "outputs": [
        {
          "name": "stdout",
          "text": "The Training dataset has 7191 documents\nThe Development dataset has 1037 documents\nThe Testing dataset has 2091 documents\n",
          "output_type": "stream"
        }
      ]
    },
    {
      "cell_type": "code",
      "source": [
        "# The average document lenght in each dataset\n",
        "\n",
        "train_avg_doc_length = train_df[\"text\"].str.len().mean()\n",
        "dev_avg_doc_length = validation_df[\"text\"].str.len().mean()\n",
        "test_avg_doc_length = testing_df[\"text\"].str.len().mean()\n",
        "\n",
        "\n",
        "print(f\"The Training dataset has an average document length of {train_avg_doc_length:.2f} characters\")\n",
        "print(f\"The Development dataset has an average document length of {dev_avg_doc_length:.2f} characters\")\n",
        "print(f\"The Test dataset has an average document length of {test_avg_doc_length:.2f} characters\")"
      ],
      "metadata": {
        "id": "EDaR_1Yg7blk",
        "outputId": "66182fe1-c17f-435e-c7c7-5b2890ed2200",
        "execution": {
          "iopub.status.busy": "2023-07-29T21:25:49.780269Z",
          "iopub.execute_input": "2023-07-29T21:25:49.780750Z",
          "iopub.status.idle": "2023-07-29T21:25:49.809711Z",
          "shell.execute_reply.started": "2023-07-29T21:25:49.780711Z",
          "shell.execute_reply": "2023-07-29T21:25:49.808860Z"
        },
        "trusted": true
      },
      "execution_count": null,
      "outputs": [
        {
          "name": "stdout",
          "text": "The Training dataset has an average document length of 11049.29 characters\nThe Development dataset has an average document length of 12094.97 characters\nThe Test dataset has an average document length of 11218.21 characters\n",
          "output_type": "stream"
        }
      ]
    },
    {
      "cell_type": "code",
      "source": [
        "# The max document lenght in each dataset\n",
        "train_max_doc_length = train_df[\"text\"].str.len().max()\n",
        "dev_max_doc_length = validation_df[\"text\"].str.len().max()\n",
        "test_max_doc_length = testing_df[\"text\"].str.len().max()\n",
        "\n",
        "print(f\"The Training dataset has max document length of {train_max_doc_length:.2f} characters\")\n",
        "print(f\"The Development dataset has max document length of {dev_max_doc_length:.2f} characters\")\n",
        "print(f\"The Test dataset has max document length of {test_max_doc_length:.2f} characters\")"
      ],
      "metadata": {
        "id": "sT_KAHms9FPU",
        "outputId": "6e26c8b4-744b-40d2-e5d9-a47135f50015",
        "execution": {
          "iopub.status.busy": "2023-07-29T21:25:54.678767Z",
          "iopub.execute_input": "2023-07-29T21:25:54.679254Z",
          "iopub.status.idle": "2023-07-29T21:25:54.709880Z",
          "shell.execute_reply.started": "2023-07-29T21:25:54.679214Z",
          "shell.execute_reply": "2023-07-29T21:25:54.708837Z"
        },
        "trusted": true
      },
      "execution_count": null,
      "outputs": [
        {
          "name": "stdout",
          "text": "The Training dataset has max document length of 54571.00 characters\nThe Development dataset has max document length of 32359.00 characters\nThe Test dataset has max document length of 41779.00 characters\n",
          "output_type": "stream"
        }
      ]
    },
    {
      "cell_type": "code",
      "source": [
        "# The min document lenght in each dataset\n",
        "train_min_doc_length = train_df[\"text\"].str.len().min()\n",
        "dev_min_doc_length = validation_df[\"text\"].str.len().min()\n",
        "test_min_doc_length = testing_df[\"text\"].str.len().min()\n",
        "\n",
        "print(f\"The Training dataset has min document length of {train_min_doc_length:.2f} characters\")\n",
        "print(f\"The Development dataset has min document length of {dev_min_doc_length:.2f} characters\")\n",
        "print(f\"The Test dataset has min document length of {test_min_doc_length:.2f} characters\")"
      ],
      "metadata": {
        "id": "HtEJs78n9axs",
        "outputId": "5243c0c0-dc44-41ba-f518-e213ca89cf94",
        "execution": {
          "iopub.status.busy": "2023-07-29T21:25:56.156006Z",
          "iopub.execute_input": "2023-07-29T21:25:56.156513Z",
          "iopub.status.idle": "2023-07-29T21:25:56.179435Z",
          "shell.execute_reply.started": "2023-07-29T21:25:56.156462Z",
          "shell.execute_reply": "2023-07-29T21:25:56.178316Z"
        },
        "trusted": true
      },
      "execution_count": null,
      "outputs": [
        {
          "name": "stdout",
          "text": "The Training dataset has min document length of 1481.00 characters\nThe Development dataset has min document length of 2270.00 characters\nThe Test dataset has min document length of 1231.00 characters\n",
          "output_type": "stream"
        }
      ]
    },
    {
      "cell_type": "code",
      "source": [
        "## plotting\n",
        "# Set up the data for the grouped bar chart\n",
        "min_vals = [train_min_doc_length, dev_min_doc_length, test_min_doc_length]\n",
        "max_vals = [train_max_doc_length, dev_max_doc_length, test_max_doc_length]\n",
        "avg_vals = [train_avg_doc_length, dev_avg_doc_length, test_avg_doc_length]\n",
        "labels = [\"Training\", \"Development\", \"Test\"]\n",
        "x = np.arange(len(labels))\n",
        "width = 0.20\n",
        "\n",
        "# Plot the grouped bar chart\n",
        "fig, ax = plt.subplots()\n",
        "rects1 = ax.bar(x - width, min_vals, width, label='Min')\n",
        "rects2 = ax.bar(x, avg_vals, width, label='Avg')\n",
        "rects3 = ax.bar(x + width, max_vals, width, label='Max')\n",
        "\n",
        "# Add labels, title, and legend\n",
        "ax.set_ylabel('Document Length')\n",
        "ax.set_title('Document Length by Dataset')\n",
        "ax.set_xticks(x)\n",
        "ax.set_xticklabels(labels)\n",
        "ax.legend()\n",
        "\n",
        "\n",
        "# Add value labels on top of the bars\n",
        "def add_value_labels(rects):\n",
        "    for rect in rects:\n",
        "        height = rect.get_height()\n",
        "        ax.annotate(f'{height:.2f}',\n",
        "                    xy=(rect.get_x() + rect.get_width() / 2, height),\n",
        "                    xytext=(0, 2),  # 3 points vertical offset\n",
        "                    textcoords=\"offset points\",\n",
        "                    ha='center', va='bottom')\n",
        "add_value_labels(rects1)\n",
        "add_value_labels(rects2)\n",
        "add_value_labels(rects3)\n",
        "\n",
        "plt.show();"
      ],
      "metadata": {
        "id": "_M3RVxfy_7QX",
        "outputId": "a2111b7a-0485-4a50-cda0-8bfa134244df",
        "execution": {
          "iopub.status.busy": "2023-07-29T21:25:59.263740Z",
          "iopub.execute_input": "2023-07-29T21:25:59.264109Z",
          "iopub.status.idle": "2023-07-29T21:25:59.672707Z",
          "shell.execute_reply.started": "2023-07-29T21:25:59.264078Z",
          "shell.execute_reply": "2023-07-29T21:25:59.666448Z"
        },
        "trusted": true
      },
      "execution_count": null,
      "outputs": [
        {
          "output_type": "display_data",
          "data": {
            "text/plain": "<Figure size 640x480 with 1 Axes>",
            "image/png": "[encoded data removed]"
          },
          "metadata": {}
        }
      ]
    },
    {
      "cell_type": "code",
      "source": [
        "# The average hypothesis lenght in each dataset\n",
        "\n",
        "train_avg_hyp_length = train_df[\"hypothesis\"].str.len().mean()\n",
        "dev_avg_hyp_length = validation_df[\"hypothesis\"].str.len().mean()\n",
        "test_avg_hyp_length = testing_df[\"hypothesis\"].str.len().mean()\n",
        "\n",
        "\n",
        "print(f\"The Training dataset has an average hypothesis length of {train_avg_hyp_length:.2f} characters\")\n",
        "print(f\"The Development dataset has an average hypothesis length of {dev_avg_hyp_length:.2f} characters\")\n",
        "print(f\"The Test dataset has an average hypothesis length of {test_avg_doc_length:.2f} characters\")"
      ],
      "metadata": {
        "id": "W-5qPTZW99i3",
        "outputId": "2ef3e16c-ef53-44cc-8211-1658d5c18908",
        "execution": {
          "iopub.status.busy": "2023-07-29T21:26:01.927614Z",
          "iopub.execute_input": "2023-07-29T21:26:01.928312Z",
          "iopub.status.idle": "2023-07-29T21:26:01.946408Z",
          "shell.execute_reply.started": "2023-07-29T21:26:01.928230Z",
          "shell.execute_reply": "2023-07-29T21:26:01.945185Z"
        },
        "trusted": true
      },
      "execution_count": null,
      "outputs": [
        {
          "name": "stdout",
          "text": "The Training dataset has an average hypothesis length of 97.18 characters\nThe Development dataset has an average hypothesis length of 97.18 characters\nThe Test dataset has an average hypothesis length of 11218.21 characters\n",
          "output_type": "stream"
        }
      ]
    },
    {
      "cell_type": "code",
      "source": [
        "# The max hypothesis lenght in each dataset\n",
        "\n",
        "train_max_hyp_length = train_df[\"hypothesis\"].str.len().max()\n",
        "dev_max_hyp_length = validation_df[\"hypothesis\"].str.len().max()\n",
        "test_max_hyp_length = testing_df[\"hypothesis\"].str.len().max()\n",
        "\n",
        "\n",
        "print(f\"The Training dataset has max hypothesis length of {train_max_hyp_length:.2f} characters\")\n",
        "print(f\"The Development dataset has max hypothesis length of {dev_max_hyp_length:.2f} characters\")\n",
        "print(f\"The Test dataset has max hypothesis length of {test_max_hyp_length:.2f} characters\")"
      ],
      "metadata": {
        "id": "x537TEJL-Qds",
        "outputId": "01cd5d4f-f5e7-48c2-9780-f678c559eca4",
        "execution": {
          "iopub.status.busy": "2023-07-29T21:26:04.784227Z",
          "iopub.execute_input": "2023-07-29T21:26:04.785385Z",
          "iopub.status.idle": "2023-07-29T21:26:04.800543Z",
          "shell.execute_reply.started": "2023-07-29T21:26:04.785340Z",
          "shell.execute_reply": "2023-07-29T21:26:04.799196Z"
        },
        "trusted": true
      },
      "execution_count": null,
      "outputs": [
        {
          "name": "stdout",
          "text": "The Training dataset has max hypothesis length of 162.00 characters\nThe Development dataset has max hypothesis length of 162.00 characters\nThe Test dataset has max hypothesis length of 162.00 characters\n",
          "output_type": "stream"
        }
      ]
    },
    {
      "cell_type": "code",
      "source": [
        "# The min hypothesis lenght in each dataset\n",
        "\n",
        "train_min_hyp_length = train_df[\"hypothesis\"].str.len().min()\n",
        "dev_min_hyp_length = validation_df[\"hypothesis\"].str.len().min()\n",
        "test_min_hyp_length = testing_df[\"hypothesis\"].str.len().min()\n",
        "\n",
        "\n",
        "print(f\"The Training dataset has max hypothesis length of {train_min_hyp_length:.2f} characters\")\n",
        "print(f\"The Development dataset has max hypothesis length of {dev_min_hyp_length:.2f} characters\")\n",
        "print(f\"The Test dataset has max hypothesis length of {test_min_hyp_length:.2f} characters\")"
      ],
      "metadata": {
        "id": "usV_zHPm-mMg",
        "outputId": "6055ab6a-d94a-41e9-963a-c71f8fbdef18",
        "execution": {
          "iopub.status.busy": "2023-07-29T21:26:06.591346Z",
          "iopub.execute_input": "2023-07-29T21:26:06.591701Z",
          "iopub.status.idle": "2023-07-29T21:26:06.608849Z",
          "shell.execute_reply.started": "2023-07-29T21:26:06.591673Z",
          "shell.execute_reply": "2023-07-29T21:26:06.607579Z"
        },
        "trusted": true
      },
      "execution_count": null,
      "outputs": [
        {
          "name": "stdout",
          "text": "The Training dataset has max hypothesis length of 66.00 characters\nThe Development dataset has max hypothesis length of 66.00 characters\nThe Test dataset has max hypothesis length of 66.00 characters\n",
          "output_type": "stream"
        }
      ]
    },
    {
      "cell_type": "code",
      "source": [
        "## plotting\n",
        "# Set up the data for the grouped bar chart\n",
        "min_vals = [train_min_hyp_length, dev_min_hyp_length, test_min_hyp_length]\n",
        "max_vals = [train_max_hyp_length, dev_max_hyp_length, test_max_hyp_length]\n",
        "avg_vals = [train_avg_hyp_length, dev_avg_hyp_length, test_avg_hyp_length]\n",
        "labels = [\"Training\", \"Development\", \"Test\"]\n",
        "x = np.arange(len(labels))\n",
        "width = 0.25\n",
        "\n",
        "# Plot the grouped bar chart\n",
        "fig, ax = plt.subplots()\n",
        "rects1 = ax.bar(x - width, min_vals, width, label='Min')\n",
        "rects2 = ax.bar(x, avg_vals, width, label='Avg')\n",
        "rects3 = ax.bar(x + width, max_vals, width, label='Max')\n",
        "\n",
        "# Add labels, title, and legend\n",
        "ax.set_ylabel('Hypothesis Length')\n",
        "ax.set_title('Hypothesis Length by Dataset')\n",
        "ax.set_xticks(x)\n",
        "ax.set_xticklabels(labels)\n",
        "ax.legend()\n",
        "\n",
        "\n",
        "# Add value labels on top of the bars\n",
        "def add_value_labels(rects):\n",
        "    for rect in rects:\n",
        "        height = rect.get_height()\n",
        "        ax.annotate(f'{height:.2f}',\n",
        "                    xy=(rect.get_x() + rect.get_width() / 2, height),\n",
        "                    xytext=(0, 3),  # 3 points vertical offset\n",
        "                    textcoords=\"offset points\",\n",
        "                    ha='center', va='bottom')\n",
        "add_value_labels(rects1)\n",
        "add_value_labels(rects2)\n",
        "add_value_labels(rects3)\n",
        "\n",
        "plt.show();"
      ],
      "metadata": {
        "id": "XQRR5vVZ-yZJ",
        "outputId": "f29a4b4b-fc00-41c8-d770-620b6d54926e",
        "execution": {
          "iopub.status.busy": "2023-07-29T21:26:08.366093Z",
          "iopub.execute_input": "2023-07-29T21:26:08.366674Z",
          "iopub.status.idle": "2023-07-29T21:26:08.875640Z",
          "shell.execute_reply.started": "2023-07-29T21:26:08.366632Z",
          "shell.execute_reply": "2023-07-29T21:26:08.874615Z"
        },
        "trusted": true
      },
      "execution_count": null,
      "outputs": [
        {
          "output_type": "display_data",
          "data": {
            "text/plain": "<Figure size 640x480 with 1 Axes>",
            "image/png": "[encoded data removed]"
          },
          "metadata": {}
        }
      ]
    },
    {
      "cell_type": "code",
      "source": [
        "## The distribuation of the Documents lenghts in The datasets\n",
        "\n",
        "# the document lengths for each dataset\n",
        "train_doc_lengths = train_df[\"text\"].str.len()\n",
        "dev_doc_lengths = validation_df[\"text\"].str.len()\n",
        "test_doc_lengths = testing_df[\"text\"].str.len()\n",
        "\n",
        "# histograms\n",
        "fig, axs = plt.subplots(3, 1, figsize=(8, 12))\n",
        "axs[0].hist(train_doc_lengths, bins=50)\n",
        "axs[0].set_title('Training Dataset')\n",
        "axs[0].set_xlabel('Document Length')\n",
        "axs[0].set_ylabel('Frequency')\n",
        "\n",
        "axs[1].hist(dev_doc_lengths, bins=50)\n",
        "axs[1].set_title('Development Dataset')\n",
        "axs[1].set_xlabel('Document Length')\n",
        "axs[1].set_ylabel('Frequency')\n",
        "\n",
        "axs[2].hist(test_doc_lengths, bins=50)\n",
        "axs[2].set_title('Test Dataset')\n",
        "axs[2].set_xlabel('Document Length')\n",
        "axs[2].set_ylabel('Frequency')\n",
        "\n",
        "plt.tight_layout()\n",
        "plt.show();"
      ],
      "metadata": {
        "id": "Z-KYUa3q_x-b",
        "outputId": "8f537a9d-e2c1-47b0-f2ef-47e95b059369",
        "execution": {
          "iopub.status.busy": "2023-07-29T21:26:09.998202Z",
          "iopub.execute_input": "2023-07-29T21:26:09.998715Z",
          "iopub.status.idle": "2023-07-29T21:26:11.536897Z",
          "shell.execute_reply.started": "2023-07-29T21:26:09.998674Z",
          "shell.execute_reply": "2023-07-29T21:26:11.535941Z"
        },
        "trusted": true
      },
      "execution_count": null,
      "outputs": [
        {
          "output_type": "display_data",
          "data": {
            "text/plain": "<Figure size 800x1200 with 3 Axes>",
            "image/png": "[encoded data removed]"
          },
          "metadata": {}
        }
      ]
    },
    {
      "cell_type": "code",
      "source": [
        "## The distribuation of the Hypothesis lenghts in The datasets\n",
        "\n",
        "# the Hypothesis lengths for each dataset\n",
        "train_hyp_lengths = train_df[\"hypothesis\"].str.len()\n",
        "dev_hyp_lengths = validation_df[\"hypothesis\"].str.len()\n",
        "test_hyp_lengths = testing_df[\"hypothesis\"].str.len()\n",
        "\n",
        "# histograms\n",
        "fig, axs = plt.subplots(3, 1, figsize=(8, 12))\n",
        "axs[0].hist(train_hyp_lengths, bins=10)\n",
        "axs[0].set_title('Training Dataset')\n",
        "axs[0].set_xlabel('Hypothesis Length')\n",
        "axs[0].set_ylabel('Frequency')\n",
        "\n",
        "axs[1].hist(dev_hyp_lengths, bins=10)\n",
        "axs[1].set_title('Development Dataset')\n",
        "axs[1].set_xlabel('Hypothesis Length')\n",
        "axs[1].set_ylabel('Frequency')\n",
        "\n",
        "axs[2].hist(test_hyp_lengths, bins=10)\n",
        "axs[2].set_title('Test Dataset')\n",
        "axs[2].set_xlabel('Hypothesis Length')\n",
        "axs[2].set_ylabel('Frequency')\n",
        "\n",
        "plt.tight_layout()\n",
        "plt.show();"
      ],
      "metadata": {
        "id": "K0126LFpBJOm",
        "outputId": "f4c2354f-08e5-47e3-b3d5-5015618c45a0",
        "execution": {
          "iopub.status.busy": "2023-07-29T21:26:14.936243Z",
          "iopub.execute_input": "2023-07-29T21:26:14.937275Z",
          "iopub.status.idle": "2023-07-29T21:26:15.810987Z",
          "shell.execute_reply.started": "2023-07-29T21:26:14.937226Z",
          "shell.execute_reply": "2023-07-29T21:26:15.810093Z"
        },
        "trusted": true
      },
      "execution_count": null,
      "outputs": [
        {
          "output_type": "display_data",
          "data": {
            "text/plain": "<Figure size 800x1200 with 3 Axes>",
            "image/png": "[encoded data removed]"
          },
          "metadata": {}
        }
      ]
    },
    {
      "cell_type": "code",
      "source": [
        "## The count of each label in each dataset\n",
        "\n",
        "# the label counts for each dataset\n",
        "train_label_counts = train_df[\"label\"].value_counts()\n",
        "dev_label_counts = validation_df[\"label\"].value_counts()\n",
        "test_label_counts = testing_df[\"label\"].value_counts()\n",
        "\n",
        "#list of the labels\n",
        "labels = ['NotMentioned', 'Entailment', 'Contradiction']\n",
        "\n",
        "# the data for the grouped bar chart\n",
        "train_vals = [train_label_counts[label] for label in labels]\n",
        "dev_vals = [dev_label_counts[label] for label in labels]\n",
        "test_vals = [test_label_counts[label] for label in labels]\n",
        "x = np.arange(len(labels))\n",
        "width = 0.25\n",
        "\n",
        "# Plot the grouped bar chart\n",
        "fig, ax = plt.subplots()\n",
        "rects1 = ax.bar(x - width, train_vals, width, label='Training')\n",
        "rects2 = ax.bar(x, dev_vals, width, label='Development')\n",
        "rects3 = ax.bar(x + width, test_vals, width, label='Test')\n",
        "\n",
        "# Add labels, title, and legend\n",
        "ax.set_ylabel('Label Count')\n",
        "ax.set_title('Label Distribution by Dataset')\n",
        "ax.set_xticks(x)\n",
        "ax.set_xticklabels(labels)\n",
        "ax.legend()\n",
        "\n",
        "# Add value labels on top of the bars\n",
        "def add_value_labels(rects):\n",
        "    for rect in rects:\n",
        "        height = rect.get_height()\n",
        "        ax.annotate(f'{height}',\n",
        "                    xy=(rect.get_x() + rect.get_width() / 2, height),\n",
        "                    xytext=(0, 3),  # 3 points vertical offset\n",
        "                    textcoords=\"offset points\",\n",
        "                    ha='center', va='bottom')\n",
        "add_value_labels(rects1)\n",
        "add_value_labels(rects2)\n",
        "add_value_labels(rects3)\n",
        "\n",
        "plt.show();"
      ],
      "metadata": {
        "id": "OCsJGeB1BqE7",
        "outputId": "2e88a497-466d-40a2-9d1c-c4bff4ad9363",
        "execution": {
          "iopub.status.busy": "2023-07-29T21:26:19.388317Z",
          "iopub.execute_input": "2023-07-29T21:26:19.388690Z",
          "iopub.status.idle": "2023-07-29T21:26:19.822072Z",
          "shell.execute_reply.started": "2023-07-29T21:26:19.388658Z",
          "shell.execute_reply": "2023-07-29T21:26:19.821083Z"
        },
        "trusted": true
      },
      "execution_count": null,
      "outputs": [
        {
          "output_type": "display_data",
          "data": {
            "text/plain": "<Figure size 640x480 with 1 Axes>",
            "image/png": "[encoded data removed]"
          },
          "metadata": {}
        }
      ]
    },
    {
      "cell_type": "markdown",
      "source": [
        "## 2-  Performing NLI using two transformer based approaches\n",
        "\n",
        "**I would choose**\n",
        "\n",
        "* BERT\n",
        "* RoBERTa\n",
        "\n",
        "#### The reason for choosing these models :     \n",
        "\n",
        "* **AlBert** : as it achived SOA results on several NLI benchmarks such as [MLI \"Multi-Genre NAtural LAngauge Inference\", SNLI \"Stanford Natural Language Inference\"] and Albert is designed to be more efficient than BERT, with a smaller number of parameters and faster training times. and also it uses cross-layer parameter sharing, which helps reduce the number of parameters required for the model and can improve its ability to generalize to new inputs\n",
        "\n",
        "* **RoBERTa** : simillar as Bert but uses a larger pre-training corpus and a different pre-training objective, achived SOA results on several NLI benchmarks such as [MNLI dataset and  GLUE benchmark], and it is  pre-trained using a MLM objective, but unlike BERT, it uses dynamic masking during pre-training and does not use the NSP objective."
      ],
      "metadata": {
        "id": "-mdn78NGDFmi"
      }
    },
    {
      "cell_type": "markdown",
      "source": [
        "### First Albert:"
      ],
      "metadata": {
        "id": "ZkHI89Io20xQ"
      }
    },
    {
      "cell_type": "code",
      "source": [
        "# Load the pre-trained tokenizer and model\n",
        "tokenizer = AutoTokenizer.from_pretrained(\"albert-base-v2\")\n",
        "model = AutoModelForSequenceClassification.from_pretrained(\"albert-base-v2\", num_labels=3)"
      ],
      "metadata": {
        "execution": {
          "iopub.status.busy": "2023-07-29T21:28:18.408454Z",
          "iopub.execute_input": "2023-07-29T21:28:18.408834Z",
          "iopub.status.idle": "2023-07-29T21:28:20.003936Z",
          "shell.execute_reply.started": "2023-07-29T21:28:18.408802Z",
          "shell.execute_reply": "2023-07-29T21:28:20.002946Z"
        },
        "trusted": true,
        "colab": {
          "referenced_widgets": [
            "77c4bef867aa4cc1b76d2d6a18ab38c3",
            "4605efa4602a4d7d92b56afc2bd639f9",
            "cf9b23ae6dfe4038bf33351c8cd60a8e",
            "8bc44a9e73a3449a80708017dd3fdd32"
          ]
        },
        "id": "RNLVPQZu20xR",
        "outputId": "5252b66a-626f-4e11-ebf1-171fec3f9052"
      },
      "execution_count": null,
      "outputs": [
        {
          "output_type": "display_data",
          "data": {
            "text/plain": "Downloading (…)lve/main/config.json:   0%|          | 0.00/684 [00:00<?, ?B/s]",
            "application/vnd.jupyter.widget-view+json": {
              "version_major": 2,
              "version_minor": 0,
              "model_id": "77c4bef867aa4cc1b76d2d6a18ab38c3"
            }
          },
          "metadata": {}
        },
        {
          "output_type": "display_data",
          "data": {
            "text/plain": "Downloading (…)ve/main/spiece.model:   0%|          | 0.00/760k [00:00<?, ?B/s]",
            "application/vnd.jupyter.widget-view+json": {
              "version_major": 2,
              "version_minor": 0,
              "model_id": "4605efa4602a4d7d92b56afc2bd639f9"
            }
          },
          "metadata": {}
        },
        {
          "output_type": "display_data",
          "data": {
            "text/plain": "Downloading (…)/main/tokenizer.json:   0%|          | 0.00/1.31M [00:00<?, ?B/s]",
            "application/vnd.jupyter.widget-view+json": {
              "version_major": 2,
              "version_minor": 0,
              "model_id": "cf9b23ae6dfe4038bf33351c8cd60a8e"
            }
          },
          "metadata": {}
        },
        {
          "output_type": "display_data",
          "data": {
            "text/plain": "Downloading model.safetensors:   0%|          | 0.00/47.4M [00:00<?, ?B/s]",
            "application/vnd.jupyter.widget-view+json": {
              "version_major": 2,
              "version_minor": 0,
              "model_id": "8bc44a9e73a3449a80708017dd3fdd32"
            }
          },
          "metadata": {}
        },
        {
          "name": "stderr",
          "text": "Some weights of the model checkpoint at albert-base-v2 were not used when initializing AlbertForSequenceClassification: ['predictions.decoder.bias', 'predictions.dense.bias', 'predictions.bias', 'predictions.dense.weight', 'predictions.LayerNorm.bias', 'predictions.LayerNorm.weight']\n- This IS expected if you are initializing AlbertForSequenceClassification from the checkpoint of a model trained on another task or with another architecture (e.g. initializing a BertForSequenceClassification model from a BertForPreTraining model).\n- This IS NOT expected if you are initializing AlbertForSequenceClassification from the checkpoint of a model that you expect to be exactly identical (initializing a BertForSequenceClassification model from a BertForSequenceClassification model).\nSome weights of AlbertForSequenceClassification were not initialized from the model checkpoint at albert-base-v2 and are newly initialized: ['classifier.weight', 'classifier.bias']\nYou should probably TRAIN this model on a down-stream task to be able to use it for predictions and inference.\n",
          "output_type": "stream"
        }
      ]
    },
    {
      "cell_type": "code",
      "source": [
        "# Tokenize the data\n",
        "import torch\n",
        "\n",
        "\n",
        "def tokenize_data(data):\n",
        "    #the text and hypothesis will speperated by [sep] token to differentiate them.\n",
        "    return tokenizer(text=data['text'].tolist(), text_pair=data['hypothesis'].tolist(), truncation=True, padding=\"max_length\", max_length=512)"
      ],
      "metadata": {
        "execution": {
          "iopub.status.busy": "2023-07-29T21:29:12.525755Z",
          "iopub.execute_input": "2023-07-29T21:29:12.526140Z",
          "iopub.status.idle": "2023-07-29T21:29:12.531679Z",
          "shell.execute_reply.started": "2023-07-29T21:29:12.526093Z",
          "shell.execute_reply": "2023-07-29T21:29:12.530652Z"
        },
        "trusted": true,
        "id": "no3Xb58x20xS"
      },
      "execution_count": null,
      "outputs": []
    },
    {
      "cell_type": "code",
      "source": [
        "class ContractNLIDataset(torch.utils.data.Dataset):\n",
        "    def __init__(self, encodings, labels):\n",
        "        self.encodings = encodings\n",
        "        self.labels = labels\n",
        "\n",
        "    def __getitem__(self, idx):\n",
        "        item = {key: torch.tensor(value[idx]) for key, value in self.encodings.items()}\n",
        "        # Here we ensure the label is an integer tensor\n",
        "        item['labels'] = torch.tensor(int(self.labels[idx]))\n",
        "        return item\n",
        "\n",
        "    def __len__(self):\n",
        "        return len(self.labels)"
      ],
      "metadata": {
        "execution": {
          "iopub.status.busy": "2023-07-29T21:29:36.916716Z",
          "iopub.execute_input": "2023-07-29T21:29:36.917210Z",
          "iopub.status.idle": "2023-07-29T21:29:36.927298Z",
          "shell.execute_reply.started": "2023-07-29T21:29:36.917165Z",
          "shell.execute_reply": "2023-07-29T21:29:36.926281Z"
        },
        "trusted": true,
        "id": "-_COYLJc20xS"
      },
      "execution_count": null,
      "outputs": []
    },
    {
      "cell_type": "code",
      "source": [
        "label_mapping = {\"NotMentioned\": 0, \"Entailment\": 1, \"Contradiction\": 2}\n",
        "\n",
        "train_labels = [label_mapping[label] for label in train_df['label'].tolist()]\n",
        "valid_labels = [label_mapping[label] for label in validation_df['label'].tolist()]\n",
        "train_encodings = tokenize_data(train_df)\n",
        "valid_encodings = tokenize_data(validation_df)"
      ],
      "metadata": {
        "execution": {
          "iopub.status.busy": "2023-07-29T21:30:04.849759Z",
          "iopub.execute_input": "2023-07-29T21:30:04.850184Z",
          "iopub.status.idle": "2023-07-29T21:31:13.881595Z",
          "shell.execute_reply.started": "2023-07-29T21:30:04.850143Z",
          "shell.execute_reply": "2023-07-29T21:31:13.880573Z"
        },
        "trusted": true,
        "id": "uYNvQupJ20xT"
      },
      "execution_count": null,
      "outputs": []
    },
    {
      "cell_type": "code",
      "source": [
        "train_dataset = ContractNLIDataset(train_encodings, train_labels)\n",
        "valid_dataset = ContractNLIDataset(valid_encodings, valid_labels)"
      ],
      "metadata": {
        "execution": {
          "iopub.status.busy": "2023-07-29T21:31:13.884324Z",
          "iopub.execute_input": "2023-07-29T21:31:13.884712Z",
          "iopub.status.idle": "2023-07-29T21:31:13.891180Z",
          "shell.execute_reply.started": "2023-07-29T21:31:13.884679Z",
          "shell.execute_reply": "2023-07-29T21:31:13.890282Z"
        },
        "trusted": true,
        "id": "-uA_t38f20xU"
      },
      "execution_count": null,
      "outputs": []
    },
    {
      "cell_type": "code",
      "source": [
        "train_dataset.encodings[0]"
      ],
      "metadata": {
        "execution": {
          "iopub.status.busy": "2023-07-29T21:31:17.369240Z",
          "iopub.execute_input": "2023-07-29T21:31:17.369602Z",
          "iopub.status.idle": "2023-07-29T21:31:17.376396Z",
          "shell.execute_reply.started": "2023-07-29T21:31:17.369573Z",
          "shell.execute_reply": "2023-07-29T21:31:17.375408Z"
        },
        "trusted": true,
        "id": "-X87-oJe20xU",
        "outputId": "cc413ce6-d70e-4e47-8151-48adda48f08a"
      },
      "execution_count": null,
      "outputs": [
        {
          "execution_count": 29,
          "output_type": "execute_result",
          "data": {
            "text/plain": "Encoding(num_tokens=512, attributes=[ids, type_ids, tokens, offsets, attention_mask, special_tokens_mask, overflowing])"
          },
          "metadata": {}
        }
      ]
    },
    {
      "cell_type": "code",
      "source": [
        "training_args = TrainingArguments(\n",
        "    output_dir='./results',\n",
        "    num_train_epochs=3,\n",
        "    per_device_train_batch_size=16,\n",
        "    per_device_eval_batch_size=64,\n",
        "    warmup_steps=500,\n",
        "    weight_decay=0.01,\n",
        "    logging_dir='./logs',\n",
        "    logging_steps=10,\n",
        "    evaluation_strategy='steps',\n",
        "    eval_steps=50,\n",
        "    learning_rate=2e-5,\n",
        "    save_total_limit=1,\n",
        "    load_best_model_at_end=True,\n",
        ")\n"
      ],
      "metadata": {
        "execution": {
          "iopub.status.busy": "2023-07-29T21:31:20.070464Z",
          "iopub.execute_input": "2023-07-29T21:31:20.070865Z",
          "iopub.status.idle": "2023-07-29T21:31:20.162476Z",
          "shell.execute_reply.started": "2023-07-29T21:31:20.070834Z",
          "shell.execute_reply": "2023-07-29T21:31:20.161461Z"
        },
        "trusted": true,
        "id": "FNiUr1Ja20xU"
      },
      "execution_count": null,
      "outputs": []
    },
    {
      "cell_type": "code",
      "source": [
        "# Define the evaluation metrics\n",
        "def compute_metrics(p):\n",
        "    preds = np.argmax(p.predictions, axis=1)\n",
        "    return {\"accuracy\": (preds == p.label_ids).mean()}"
      ],
      "metadata": {
        "execution": {
          "iopub.status.busy": "2023-07-29T21:31:49.676469Z",
          "iopub.execute_input": "2023-07-29T21:31:49.678196Z",
          "iopub.status.idle": "2023-07-29T21:31:49.683786Z",
          "shell.execute_reply.started": "2023-07-29T21:31:49.678149Z",
          "shell.execute_reply": "2023-07-29T21:31:49.682756Z"
        },
        "trusted": true,
        "id": "LWkhtsXW20xV"
      },
      "execution_count": null,
      "outputs": []
    },
    {
      "cell_type": "code",
      "source": [
        "trainer_albert = Trainer(\n",
        "    model=model,\n",
        "    args=training_args,\n",
        "    train_dataset=train_dataset,\n",
        "    eval_dataset=valid_dataset,\n",
        "    tokenizer=tokenizer,\n",
        "    compute_metrics=compute_metrics,\n",
        ")"
      ],
      "metadata": {
        "execution": {
          "iopub.status.busy": "2023-07-29T21:32:16.371880Z",
          "iopub.execute_input": "2023-07-29T21:32:16.372297Z",
          "iopub.status.idle": "2023-07-29T21:32:16.384589Z",
          "shell.execute_reply.started": "2023-07-29T21:32:16.372265Z",
          "shell.execute_reply": "2023-07-29T21:32:16.381890Z"
        },
        "trusted": true,
        "id": "Wddc9ifR20xW"
      },
      "execution_count": null,
      "outputs": []
    },
    {
      "cell_type": "code",
      "source": [
        "trainer_albert.train()"
      ],
      "metadata": {
        "execution": {
          "iopub.status.busy": "2023-07-29T21:33:18.658550Z",
          "iopub.execute_input": "2023-07-29T21:33:18.658989Z",
          "iopub.status.idle": "2023-07-29T21:58:24.336868Z",
          "shell.execute_reply.started": "2023-07-29T21:33:18.658949Z",
          "shell.execute_reply": "2023-07-29T21:58:24.332637Z"
        },
        "trusted": true,
        "id": "FqUwcpPW20xW",
        "outputId": "e499aab1-9985-4504-d5a3-d29d87476613"
      },
      "execution_count": null,
      "outputs": [
        {
          "name": "stderr",
          "text": "/opt/conda/lib/python3.10/site-packages/transformers/optimization.py:411: FutureWarning: This implementation of AdamW is deprecated and will be removed in a future version. Use the PyTorch implementation torch.optim.AdamW instead, or set `no_deprecation_warning=True` to disable this warning\n  warnings.warn(\n\u001b[34m\u001b[1mwandb\u001b[0m: Logging into wandb.ai. (Learn how to deploy a W&B server locally: https://wandb.me/wandb-server)\n\u001b[34m\u001b[1mwandb\u001b[0m: You can find your API key in your browser here: https://wandb.ai/authorize\n\u001b[34m\u001b[1mwandb\u001b[0m: Paste an API key from your profile and hit enter, or press ctrl+c to quit:",
          "output_type": "stream"
        },
        {
          "output_type": "stream",
          "name": "stdin",
          "text": "  ········································\n"
        },
        {
          "name": "stderr",
          "text": "\u001b[34m\u001b[1mwandb\u001b[0m: Appending key for api.wandb.ai to your netrc file: /root/.netrc\n",
          "output_type": "stream"
        },
        {
          "output_type": "display_data",
          "data": {
            "text/plain": "<IPython.core.display.HTML object>",
            "text/html": "wandb version 0.15.7 is available!  To upgrade, please run:\n $ pip install wandb --upgrade"
          },
          "metadata": {}
        },
        {
          "output_type": "display_data",
          "data": {
            "text/plain": "<IPython.core.display.HTML object>",
            "text/html": "Tracking run with wandb version 0.15.5"
          },
          "metadata": {}
        },
        {
          "output_type": "display_data",
          "data": {
            "text/plain": "<IPython.core.display.HTML object>",
            "text/html": "Run data is saved locally in <code>/kaggle/working/wandb/run-20230729_213342-r92w2n6e</code>"
          },
          "metadata": {}
        },
        {
          "output_type": "display_data",
          "data": {
            "text/plain": "<IPython.core.display.HTML object>",
            "text/html": "Syncing run <strong><a href='https://wandb.ai/ronysalem9/huggingface/runs/r92w2n6e' target=\"_blank\">feasible-leaf-5</a></strong> to <a href='https://wandb.ai/ronysalem9/huggingface' target=\"_blank\">Weights & Biases</a> (<a href='https://wandb.me/run' target=\"_blank\">docs</a>)<br/>"
          },
          "metadata": {}
        },
        {
          "output_type": "display_data",
          "data": {
            "text/plain": "<IPython.core.display.HTML object>",
            "text/html": " View project at <a href='https://wandb.ai/ronysalem9/huggingface' target=\"_blank\">https://wandb.ai/ronysalem9/huggingface</a>"
          },
          "metadata": {}
        },
        {
          "output_type": "display_data",
          "data": {
            "text/plain": "<IPython.core.display.HTML object>",
            "text/html": " View run at <a href='https://wandb.ai/ronysalem9/huggingface/runs/r92w2n6e' target=\"_blank\">https://wandb.ai/ronysalem9/huggingface/runs/r92w2n6e</a>"
          },
          "metadata": {}
        },
        {
          "name": "stderr",
          "text": "You're using a AlbertTokenizerFast tokenizer. Please note that with a fast tokenizer, using the `__call__` method is faster than using a method to encode the text followed by a call to the `pad` method to get a padded encoding.\n/opt/conda/lib/python3.10/site-packages/torch/nn/parallel/_functions.py:68: UserWarning: Was asked to gather along dimension 0, but all input tensors were scalars; will instead unsqueeze and return a vector.\n  warnings.warn('Was asked to gather along dimension 0, but all '\n",
          "output_type": "stream"
        },
        {
          "output_type": "display_data",
          "data": {
            "text/plain": "<IPython.core.display.HTML object>",
            "text/html": "\n    <div>\n      \n      <progress value='675' max='675' style='width:300px; height:20px; vertical-align: middle;'></progress>\n      [675/675 24:00, Epoch 3/3]\n    </div>\n    <table border=\"1\" class=\"dataframe\">\n  <thead>\n <tr style=\"text-align: left;\">\n      <th>Step</th>\n      <th>Training Loss</th>\n      <th>Validation Loss</th>\n      <th>Accuracy</th>\n    </tr>\n  </thead>\n  <tbody>\n    <tr>\n      <td>50</td>\n      <td>0.999300</td>\n      <td>0.956185</td>\n      <td>0.505304</td>\n    </tr>\n    <tr>\n      <td>100</td>\n      <td>0.915200</td>\n      <td>0.880160</td>\n      <td>0.599807</td>\n    </tr>\n    <tr>\n      <td>150</td>\n      <td>0.856500</td>\n      <td>0.835279</td>\n      <td>0.621986</td>\n    </tr>\n    <tr>\n      <td>200</td>\n      <td>0.829400</td>\n      <td>0.828925</td>\n      <td>0.608486</td>\n    </tr>\n    <tr>\n      <td>250</td>\n      <td>0.714700</td>\n      <td>0.755196</td>\n      <td>0.684667</td>\n    </tr>\n    <tr>\n      <td>300</td>\n      <td>0.711200</td>\n      <td>0.741662</td>\n      <td>0.665381</td>\n    </tr>\n    <tr>\n      <td>350</td>\n      <td>0.671600</td>\n      <td>0.674912</td>\n      <td>0.706847</td>\n    </tr>\n    <tr>\n      <td>400</td>\n      <td>0.694200</td>\n      <td>0.684280</td>\n      <td>0.697203</td>\n    </tr>\n    <tr>\n      <td>450</td>\n      <td>0.739000</td>\n      <td>0.706682</td>\n      <td>0.667310</td>\n    </tr>\n    <tr>\n      <td>500</td>\n      <td>0.682900</td>\n      <td>0.683268</td>\n      <td>0.673095</td>\n    </tr>\n    <tr>\n      <td>550</td>\n      <td>0.598800</td>\n      <td>0.644053</td>\n      <td>0.708775</td>\n    </tr>\n    <tr>\n      <td>600</td>\n      <td>0.580700</td>\n      <td>0.632036</td>\n      <td>0.698168</td>\n    </tr>\n    <tr>\n      <td>650</td>\n      <td>0.566100</td>\n      <td>0.626963</td>\n      <td>0.712633</td>\n    </tr>\n  </tbody>\n</table><p>"
          },
          "metadata": {}
        },
        {
          "name": "stderr",
          "text": "/opt/conda/lib/python3.10/site-packages/torch/nn/parallel/_functions.py:68: UserWarning: Was asked to gather along dimension 0, but all input tensors were scalars; will instead unsqueeze and return a vector.\n  warnings.warn('Was asked to gather along dimension 0, but all '\n",
          "output_type": "stream"
        },
        {
          "execution_count": 34,
          "output_type": "execute_result",
          "data": {
            "text/plain": "TrainOutput(global_step=675, training_loss=0.7547231282128228, metrics={'train_runtime': 1505.2066, 'train_samples_per_second': 14.332, 'train_steps_per_second': 0.448, 'total_flos': 515604712633344.0, 'train_loss': 0.7547231282128228, 'epoch': 3.0})"
          },
          "metadata": {}
        }
      ]
    },
    {
      "cell_type": "code",
      "source": [
        "from sklearn.metrics import accuracy_score, precision_recall_fscore_support\n",
        "\n",
        "def calculate_results(model, eval_dataset):\n",
        "    # Create a Trainer object\n",
        "    trainer = Trainer(model=model)\n",
        "\n",
        "\n",
        "    # Making predictions on the evaluation dataset\n",
        "    eval_predictions = trainer.predict(eval_dataset)\n",
        "    eval_preds = eval_predictions.predictions.argmax(axis=-1)\n",
        "\n",
        "    # Extracting the true labels and convert to numpy array\n",
        "    eval_labels = [d['labels'] for d in eval_dataset]\n",
        "    eval_labels = np.array(eval_labels).flatten()\n",
        "\n",
        "    # Calculating model accuracy\n",
        "    model_accuracy = accuracy_score(eval_labels, eval_preds) * 100\n",
        "\n",
        "    # Calculating model precision, recall and f1 score using \"weighted\" average\n",
        "    model_precision, model_recall, model_f1, _ = precision_recall_fscore_support(eval_labels, eval_preds, average='weighted')\n",
        "\n",
        "    # Create a dictionary of evaluation metrics\n",
        "    model_results = {\"accuracy\": model_accuracy,\n",
        "                     \"precision\": model_precision,\n",
        "                     \"recall\": model_recall,\n",
        "                     \"f1\": model_f1}\n",
        "    return model_results"
      ],
      "metadata": {
        "execution": {
          "iopub.status.busy": "2023-07-29T22:22:12.128174Z",
          "iopub.execute_input": "2023-07-29T22:22:12.129263Z",
          "iopub.status.idle": "2023-07-29T22:22:12.141008Z",
          "shell.execute_reply.started": "2023-07-29T22:22:12.129222Z",
          "shell.execute_reply": "2023-07-29T22:22:12.139353Z"
        },
        "trusted": true,
        "id": "pg2_xkhK20xX"
      },
      "execution_count": null,
      "outputs": []
    },
    {
      "cell_type": "code",
      "source": [
        "label_mapping = {\"NotMentioned\": 0, \"Entailment\": 1, \"Contradiction\": 2}"
      ],
      "metadata": {
        "execution": {
          "iopub.status.busy": "2023-07-29T22:24:14.926143Z",
          "iopub.execute_input": "2023-07-29T22:24:14.926552Z",
          "iopub.status.idle": "2023-07-29T22:24:14.933741Z",
          "shell.execute_reply.started": "2023-07-29T22:24:14.926519Z",
          "shell.execute_reply": "2023-07-29T22:24:14.932591Z"
        },
        "trusted": true,
        "id": "xfZzxiRs20xY"
      },
      "execution_count": null,
      "outputs": []
    },
    {
      "cell_type": "code",
      "source": [
        "test_encodings = tokenizer(text=testing_df['text'].tolist(), text_pair=testing_df['hypothesis'].tolist(), truncation=True, padding=\"max_length\", max_length=512)\n",
        "test_labels = [label_mapping[label] for label in testing_df['label'].tolist()]\n",
        "test_dataset = ContractNLIDataset(test_encodings, test_labels)"
      ],
      "metadata": {
        "execution": {
          "iopub.status.busy": "2023-07-29T22:24:17.264800Z",
          "iopub.execute_input": "2023-07-29T22:24:17.265239Z",
          "iopub.status.idle": "2023-07-29T22:24:33.048985Z",
          "shell.execute_reply.started": "2023-07-29T22:24:17.265202Z",
          "shell.execute_reply": "2023-07-29T22:24:33.047895Z"
        },
        "trusted": true,
        "id": "QXdp3UHt20xY"
      },
      "execution_count": null,
      "outputs": []
    },
    {
      "cell_type": "code",
      "source": [
        "# Eavluating bert model on Test dataset\n",
        "eval_results = calculate_results(model,test_dataset)\n",
        "print(eval_results)"
      ],
      "metadata": {
        "execution": {
          "iopub.status.busy": "2023-07-29T22:24:36.353186Z",
          "iopub.execute_input": "2023-07-29T22:24:36.353575Z",
          "iopub.status.idle": "2023-07-29T22:25:20.223690Z",
          "shell.execute_reply.started": "2023-07-29T22:24:36.353545Z",
          "shell.execute_reply": "2023-07-29T22:25:20.222462Z"
        },
        "trusted": true,
        "id": "1Vd5u7lh20xZ",
        "outputId": "c0bee12c-5d81-4456-e8fe-b45abb05bbcb"
      },
      "execution_count": null,
      "outputs": [
        {
          "name": "stderr",
          "text": "/opt/conda/lib/python3.10/site-packages/torch/nn/parallel/_functions.py:68: UserWarning: Was asked to gather along dimension 0, but all input tensors were scalars; will instead unsqueeze and return a vector.\n  warnings.warn('Was asked to gather along dimension 0, but all '\n",
          "output_type": "stream"
        },
        {
          "output_type": "display_data",
          "data": {
            "text/plain": "<IPython.core.display.HTML object>",
            "text/html": ""
          },
          "metadata": {}
        },
        {
          "name": "stdout",
          "text": "{'accuracy': 68.77092300334769, 'precision': 0.697075351285527, 'recall': 0.6877092300334768, 'f1': 0.6773320056504287}\n",
          "output_type": "stream"
        }
      ]
    },
    {
      "cell_type": "code",
      "source": [
        "# Eavluating bert model on validation dataset\n",
        "eval_results = calculate_results(model,valid_dataset)\n",
        "print(eval_results)"
      ],
      "metadata": {
        "execution": {
          "iopub.status.busy": "2023-07-29T22:26:17.014763Z",
          "iopub.execute_input": "2023-07-29T22:26:17.015192Z",
          "iopub.status.idle": "2023-07-29T22:26:37.567793Z",
          "shell.execute_reply.started": "2023-07-29T22:26:17.015154Z",
          "shell.execute_reply": "2023-07-29T22:26:37.566648Z"
        },
        "trusted": true,
        "id": "BOx5k7uW20xZ",
        "outputId": "b8679243-3f04-4818-9e65-804aaa01d6b4"
      },
      "execution_count": null,
      "outputs": [
        {
          "name": "stderr",
          "text": "/opt/conda/lib/python3.10/site-packages/torch/nn/parallel/_functions.py:68: UserWarning: Was asked to gather along dimension 0, but all input tensors were scalars; will instead unsqueeze and return a vector.\n  warnings.warn('Was asked to gather along dimension 0, but all '\n",
          "output_type": "stream"
        },
        {
          "output_type": "display_data",
          "data": {
            "text/plain": "<IPython.core.display.HTML object>",
            "text/html": ""
          },
          "metadata": {}
        },
        {
          "name": "stdout",
          "text": "{'accuracy': 67.30954676952749, 'precision': 0.6741581542561965, 'recall': 0.6730954676952748, 'f1': 0.6662517498480028}\n",
          "output_type": "stream"
        }
      ]
    },
    {
      "cell_type": "markdown",
      "source": [
        "### second RoBERTa:"
      ],
      "metadata": {
        "id": "MPzoHz-mpzNz"
      }
    },
    {
      "cell_type": "code",
      "source": [
        "# Loading the pre-trained tokenizer and model\n",
        "tokenizer = AutoTokenizer.from_pretrained(\"roberta-base\")\n",
        "model2 = AutoModelForSequenceClassification.from_pretrained(\"roberta-base\", num_labels=3)\n"
      ],
      "metadata": {
        "id": "YUV_PuHRp5qF",
        "execution": {
          "iopub.status.busy": "2023-07-29T22:26:55.550003Z",
          "iopub.execute_input": "2023-07-29T22:26:55.551076Z",
          "iopub.status.idle": "2023-07-29T22:27:03.509228Z",
          "shell.execute_reply.started": "2023-07-29T22:26:55.551026Z",
          "shell.execute_reply": "2023-07-29T22:27:03.503053Z"
        },
        "trusted": true,
        "colab": {
          "referenced_widgets": [
            "07d337b29c99464abcb7c07ca351b789",
            "110d0b642c9a4fe180d6956c559def6a",
            "ec8f7b877c1a4c5fb2f988503ef45e8f",
            "2488429d605545639ac9a3e44d55315d",
            "105492d21a0e4f80836840df12a3531f"
          ]
        },
        "outputId": "cb794a3c-0ea5-4c6c-9d97-f64343c7250f"
      },
      "execution_count": null,
      "outputs": [
        {
          "output_type": "display_data",
          "data": {
            "text/plain": "Downloading (…)lve/main/config.json:   0%|          | 0.00/481 [00:00<?, ?B/s]",
            "application/vnd.jupyter.widget-view+json": {
              "version_major": 2,
              "version_minor": 0,
              "model_id": "07d337b29c99464abcb7c07ca351b789"
            }
          },
          "metadata": {}
        },
        {
          "output_type": "display_data",
          "data": {
            "text/plain": "Downloading (…)olve/main/vocab.json:   0%|          | 0.00/899k [00:00<?, ?B/s]",
            "application/vnd.jupyter.widget-view+json": {
              "version_major": 2,
              "version_minor": 0,
              "model_id": "110d0b642c9a4fe180d6956c559def6a"
            }
          },
          "metadata": {}
        },
        {
          "output_type": "display_data",
          "data": {
            "text/plain": "Downloading (…)olve/main/merges.txt:   0%|          | 0.00/456k [00:00<?, ?B/s]",
            "application/vnd.jupyter.widget-view+json": {
              "version_major": 2,
              "version_minor": 0,
              "model_id": "ec8f7b877c1a4c5fb2f988503ef45e8f"
            }
          },
          "metadata": {}
        },
        {
          "output_type": "display_data",
          "data": {
            "text/plain": "Downloading (…)/main/tokenizer.json:   0%|          | 0.00/1.36M [00:00<?, ?B/s]",
            "application/vnd.jupyter.widget-view+json": {
              "version_major": 2,
              "version_minor": 0,
              "model_id": "2488429d605545639ac9a3e44d55315d"
            }
          },
          "metadata": {}
        },
        {
          "output_type": "display_data",
          "data": {
            "text/plain": "Downloading model.safetensors:   0%|          | 0.00/499M [00:00<?, ?B/s]",
            "application/vnd.jupyter.widget-view+json": {
              "version_major": 2,
              "version_minor": 0,
              "model_id": "105492d21a0e4f80836840df12a3531f"
            }
          },
          "metadata": {}
        },
        {
          "name": "stderr",
          "text": "Some weights of the model checkpoint at roberta-base were not used when initializing RobertaForSequenceClassification: ['lm_head.bias', 'lm_head.dense.bias', 'lm_head.layer_norm.bias', 'lm_head.layer_norm.weight', 'lm_head.dense.weight']\n- This IS expected if you are initializing RobertaForSequenceClassification from the checkpoint of a model trained on another task or with another architecture (e.g. initializing a BertForSequenceClassification model from a BertForPreTraining model).\n- This IS NOT expected if you are initializing RobertaForSequenceClassification from the checkpoint of a model that you expect to be exactly identical (initializing a BertForSequenceClassification model from a BertForSequenceClassification model).\nSome weights of RobertaForSequenceClassification were not initialized from the model checkpoint at roberta-base and are newly initialized: ['classifier.out_proj.bias', 'classifier.dense.weight', 'classifier.out_proj.weight', 'classifier.dense.bias']\nYou should probably TRAIN this model on a down-stream task to be able to use it for predictions and inference.\n",
          "output_type": "stream"
        }
      ]
    },
    {
      "cell_type": "code",
      "source": [
        "train_labels = [label_mapping[label] for label in train_df['label'].tolist()]\n",
        "valid_labels = [label_mapping[label] for label in validation_df['label'].tolist()]\n",
        "train_encodings = tokenize_data(train_df)\n",
        "valid_encodings = tokenize_data(validation_df)"
      ],
      "metadata": {
        "id": "eOjmZ4pOsFK7",
        "execution": {
          "iopub.status.busy": "2023-07-29T22:27:03.511609Z",
          "iopub.execute_input": "2023-07-29T22:27:03.512318Z",
          "iopub.status.idle": "2023-07-29T22:27:55.795336Z",
          "shell.execute_reply.started": "2023-07-29T22:27:03.512275Z",
          "shell.execute_reply": "2023-07-29T22:27:55.794215Z"
        },
        "trusted": true
      },
      "execution_count": null,
      "outputs": []
    },
    {
      "cell_type": "code",
      "source": [
        "train_dataset = ContractNLIDataset(train_encodings, train_labels)\n",
        "valid_dataset = ContractNLIDataset(valid_encodings, valid_labels)"
      ],
      "metadata": {
        "id": "BKfwaKb7sEbV",
        "execution": {
          "iopub.status.busy": "2023-07-29T22:27:55.796762Z",
          "iopub.execute_input": "2023-07-29T22:27:55.797414Z",
          "iopub.status.idle": "2023-07-29T22:27:55.807647Z",
          "shell.execute_reply.started": "2023-07-29T22:27:55.797374Z",
          "shell.execute_reply": "2023-07-29T22:27:55.806490Z"
        },
        "trusted": true
      },
      "execution_count": null,
      "outputs": []
    },
    {
      "cell_type": "code",
      "source": [
        "# def compute_metrics(eval_preds):\n",
        "#     predictions, labels = eval_preds\n",
        "#     preds = predictions.argmax(-1)\n",
        "#     accuracy = accuracy_score(labels, preds)\n",
        "#     return {\"accuracy\": accuracy}"
      ],
      "metadata": {
        "id": "bWu5Muiev_ik",
        "execution": {
          "iopub.status.busy": "2023-07-29T22:27:55.810426Z",
          "iopub.execute_input": "2023-07-29T22:27:55.811224Z",
          "iopub.status.idle": "2023-07-29T22:27:55.822966Z",
          "shell.execute_reply.started": "2023-07-29T22:27:55.811189Z",
          "shell.execute_reply": "2023-07-29T22:27:55.821773Z"
        },
        "trusted": true
      },
      "execution_count": null,
      "outputs": []
    },
    {
      "cell_type": "code",
      "source": [
        "trainer_roberta = Trainer(\n",
        "    model=model2,\n",
        "    args=training_args,\n",
        "    train_dataset=train_dataset,\n",
        "    eval_dataset=valid_dataset,\n",
        "    compute_metrics=compute_metrics\n",
        ")"
      ],
      "metadata": {
        "id": "_yFn6tPVrjGj",
        "execution": {
          "iopub.status.busy": "2023-07-29T22:27:55.824015Z",
          "iopub.execute_input": "2023-07-29T22:27:55.824522Z",
          "iopub.status.idle": "2023-07-29T22:27:55.976434Z",
          "shell.execute_reply.started": "2023-07-29T22:27:55.824488Z",
          "shell.execute_reply": "2023-07-29T22:27:55.975236Z"
        },
        "trusted": true
      },
      "execution_count": null,
      "outputs": []
    },
    {
      "cell_type": "code",
      "source": [
        "trainer_roberta.train()"
      ],
      "metadata": {
        "id": "GGfOC0krrro_",
        "execution": {
          "iopub.status.busy": "2023-07-29T22:27:55.978043Z",
          "iopub.execute_input": "2023-07-29T22:27:55.978682Z",
          "iopub.status.idle": "2023-07-29T22:51:51.303812Z",
          "shell.execute_reply.started": "2023-07-29T22:27:55.978649Z",
          "shell.execute_reply": "2023-07-29T22:51:51.302807Z"
        },
        "trusted": true,
        "outputId": "a357354e-2140-4395-8c25-ede861c03d4b"
      },
      "execution_count": null,
      "outputs": [
        {
          "name": "stderr",
          "text": "/opt/conda/lib/python3.10/site-packages/transformers/optimization.py:411: FutureWarning: This implementation of AdamW is deprecated and will be removed in a future version. Use the PyTorch implementation torch.optim.AdamW instead, or set `no_deprecation_warning=True` to disable this warning\n  warnings.warn(\n/opt/conda/lib/python3.10/site-packages/torch/nn/parallel/_functions.py:68: UserWarning: Was asked to gather along dimension 0, but all input tensors were scalars; will instead unsqueeze and return a vector.\n  warnings.warn('Was asked to gather along dimension 0, but all '\n",
          "output_type": "stream"
        },
        {
          "output_type": "display_data",
          "data": {
            "text/plain": "<IPython.core.display.HTML object>",
            "text/html": "\n    <div>\n      \n      <progress value='675' max='675' style='width:300px; height:20px; vertical-align: middle;'></progress>\n      [675/675 23:52, Epoch 3/3]\n    </div>\n    <table border=\"1\" class=\"dataframe\">\n  <thead>\n <tr style=\"text-align: left;\">\n      <th>Step</th>\n      <th>Training Loss</th>\n      <th>Validation Loss</th>\n      <th>Accuracy</th>\n    </tr>\n  </thead>\n  <tbody>\n    <tr>\n      <td>50</td>\n      <td>1.088300</td>\n      <td>1.083355</td>\n      <td>0.407907</td>\n    </tr>\n    <tr>\n      <td>100</td>\n      <td>0.980600</td>\n      <td>0.929387</td>\n      <td>0.500482</td>\n    </tr>\n    <tr>\n      <td>150</td>\n      <td>0.941500</td>\n      <td>0.920381</td>\n      <td>0.527483</td>\n    </tr>\n    <tr>\n      <td>200</td>\n      <td>0.884400</td>\n      <td>0.895002</td>\n      <td>0.565092</td>\n    </tr>\n    <tr>\n      <td>250</td>\n      <td>0.759100</td>\n      <td>0.757545</td>\n      <td>0.657666</td>\n    </tr>\n    <tr>\n      <td>300</td>\n      <td>0.693500</td>\n      <td>0.686275</td>\n      <td>0.693346</td>\n    </tr>\n    <tr>\n      <td>350</td>\n      <td>0.677100</td>\n      <td>0.685033</td>\n      <td>0.674060</td>\n    </tr>\n    <tr>\n      <td>400</td>\n      <td>0.733000</td>\n      <td>0.685409</td>\n      <td>0.679846</td>\n    </tr>\n    <tr>\n      <td>450</td>\n      <td>0.676700</td>\n      <td>0.688167</td>\n      <td>0.679846</td>\n    </tr>\n    <tr>\n      <td>500</td>\n      <td>0.699300</td>\n      <td>0.647702</td>\n      <td>0.721311</td>\n    </tr>\n    <tr>\n      <td>550</td>\n      <td>0.593800</td>\n      <td>0.680363</td>\n      <td>0.703954</td>\n    </tr>\n    <tr>\n      <td>600</td>\n      <td>0.613300</td>\n      <td>0.644326</td>\n      <td>0.711668</td>\n    </tr>\n    <tr>\n      <td>650</td>\n      <td>0.562300</td>\n      <td>0.646296</td>\n      <td>0.705882</td>\n    </tr>\n  </tbody>\n</table><p>"
          },
          "metadata": {}
        },
        {
          "name": "stderr",
          "text": "/opt/conda/lib/python3.10/site-packages/torch/nn/parallel/_functions.py:68: UserWarning: Was asked to gather along dimension 0, but all input tensors were scalars; will instead unsqueeze and return a vector.\n  warnings.warn('Was asked to gather along dimension 0, but all '\n",
          "output_type": "stream"
        },
        {
          "execution_count": 69,
          "output_type": "execute_result",
          "data": {
            "text/plain": "TrainOutput(global_step=675, training_loss=0.7809906214254874, metrics={'train_runtime': 1434.3269, 'train_samples_per_second': 15.041, 'train_steps_per_second': 0.471, 'total_flos': 5676145760646144.0, 'train_loss': 0.7809906214254874, 'epoch': 3.0})"
          },
          "metadata": {}
        }
      ]
    },
    {
      "cell_type": "code",
      "source": [
        "test_encodings = tokenizer(text=testing_df['text'].tolist(), text_pair=testing_df['hypothesis'].tolist(), truncation=True, padding=\"max_length\", max_length=512)\n",
        "test_labels = [label_mapping[label] for label in testing_df['label'].tolist()]\n",
        "test_dataset = ContractNLIDataset(test_encodings, test_labels)"
      ],
      "metadata": {
        "id": "iwc7ACBJ7YMx",
        "execution": {
          "iopub.status.busy": "2023-07-29T22:53:04.937464Z",
          "iopub.status.idle": "2023-07-29T22:53:04.938249Z",
          "shell.execute_reply.started": "2023-07-29T22:53:04.937979Z",
          "shell.execute_reply": "2023-07-29T22:53:04.938002Z"
        },
        "trusted": true
      },
      "execution_count": null,
      "outputs": []
    },
    {
      "cell_type": "code",
      "source": [
        "# Evaluating roberta model on the testset\n",
        "eval_results = calculate_results(model2,test_dataset)\n",
        "print(eval_results)"
      ],
      "metadata": {
        "id": "hItyWwNV7emy",
        "execution": {
          "iopub.status.busy": "2023-07-29T22:52:03.715323Z",
          "iopub.execute_input": "2023-07-29T22:52:03.715665Z",
          "iopub.status.idle": "2023-07-29T22:52:47.334216Z",
          "shell.execute_reply.started": "2023-07-29T22:52:03.715630Z",
          "shell.execute_reply": "2023-07-29T22:52:47.333193Z"
        },
        "trusted": true,
        "outputId": "5c174338-a1f7-4ba7-ad89-a92a9306d668"
      },
      "execution_count": null,
      "outputs": [
        {
          "output_type": "display_data",
          "data": {
            "text/plain": "<IPython.core.display.HTML object>",
            "text/html": ""
          },
          "metadata": {}
        },
        {
          "name": "stderr",
          "text": "Exception ignored in: <function _xla_gc_callback at 0x7a2759220af0>\nTraceback (most recent call last):\n  File \"/opt/conda/lib/python3.10/site-packages/jax/_src/lib/__init__.py\", line 104, in _xla_gc_callback\n    xla_client._xla.collect_garbage()\nKeyboardInterrupt: \n",
          "output_type": "stream"
        },
        {
          "name": "stdout",
          "text": "{'accuracy': 70.77953132472501, 'precision': 0.7045002527143147, 'recall': 0.7077953132472501, 'f1': 0.7050484286579407}\n",
          "output_type": "stream"
        }
      ]
    },
    {
      "cell_type": "code",
      "source": [
        "# Evaluating roberta model on the validation\n",
        "eval_results = calculate_results(model2,valid_dataset)\n",
        "print(eval_results)"
      ],
      "metadata": {
        "id": "j-EFcsz57iCq",
        "execution": {
          "iopub.status.busy": "2023-07-29T22:53:17.758588Z",
          "iopub.execute_input": "2023-07-29T22:53:17.759072Z",
          "iopub.status.idle": "2023-07-29T22:53:38.188198Z",
          "shell.execute_reply.started": "2023-07-29T22:53:17.759031Z",
          "shell.execute_reply": "2023-07-29T22:53:38.187061Z"
        },
        "trusted": true,
        "outputId": "5aca8c66-798f-4d38-efaa-c7da2925a218"
      },
      "execution_count": null,
      "outputs": [
        {
          "output_type": "display_data",
          "data": {
            "text/plain": "<IPython.core.display.HTML object>",
            "text/html": ""
          },
          "metadata": {}
        },
        {
          "name": "stdout",
          "text": "{'accuracy': 72.1311475409836, 'precision': 0.7202797094991559, 'recall': 0.7213114754098361, 'f1': 0.7200741552350322}\n",
          "output_type": "stream"
        }
      ]
    },
    {
      "cell_type": "markdown",
      "source": [
        "### 3- Performance Analysis and Error Anaylsis"
      ],
      "metadata": {
        "id": "UjCWmdNi20xg"
      }
    },
    {
      "cell_type": "markdown",
      "source": [
        "#### Finding where the model gets wrong : Roberta model\n"
      ],
      "metadata": {
        "id": "HgkqnsQo20xh"
      }
    },
    {
      "cell_type": "code",
      "source": [
        "model_name = trainer_roberta.model.__class__.__name__\n",
        "print(model_name)"
      ],
      "metadata": {
        "execution": {
          "iopub.status.busy": "2023-07-29T22:53:41.245920Z",
          "iopub.execute_input": "2023-07-29T22:53:41.246964Z",
          "iopub.status.idle": "2023-07-29T22:53:41.262460Z",
          "shell.execute_reply.started": "2023-07-29T22:53:41.246916Z",
          "shell.execute_reply": "2023-07-29T22:53:41.261173Z"
        },
        "trusted": true,
        "id": "QL_Bd5kA20xh",
        "outputId": "0dcb2870-873b-4e49-aa86-8baa80cf72e7"
      },
      "execution_count": null,
      "outputs": [
        {
          "name": "stdout",
          "text": "RobertaForSequenceClassification\n",
          "output_type": "stream"
        }
      ]
    },
    {
      "cell_type": "code",
      "source": [
        "# Redefine the label mapping\n",
        "label_mapping = {0: \"NotMentioned\", 1: \"Entailment\", 2: \"Contradiction\"}"
      ],
      "metadata": {
        "execution": {
          "iopub.status.busy": "2023-07-29T22:53:44.428849Z",
          "iopub.execute_input": "2023-07-29T22:53:44.429314Z",
          "iopub.status.idle": "2023-07-29T22:53:44.440514Z",
          "shell.execute_reply.started": "2023-07-29T22:53:44.429274Z",
          "shell.execute_reply": "2023-07-29T22:53:44.439322Z"
        },
        "trusted": true,
        "id": "lBF1O8Hj20xi"
      },
      "execution_count": null,
      "outputs": []
    },
    {
      "cell_type": "code",
      "source": [
        "# Getting the wrong preds\n",
        "incorrect_preds_list = []\n",
        "predictions, label_ids, metrics = trainer_roberta.predict(valid_dataset)\n",
        "\n",
        "if len(predictions) == 0:\n",
        "    print(\"No predictions were made.\")\n",
        "else:\n",
        "    # Convert the label ids to numpy array\n",
        "    valid_labels = np.array([int(label_id) for label_id in label_ids])\n",
        "\n",
        "    # Get the predicted labels\n",
        "    pred_labels = np.argmax(predictions, axis=1)"
      ],
      "metadata": {
        "execution": {
          "iopub.status.busy": "2023-07-29T22:53:45.844239Z",
          "iopub.execute_input": "2023-07-29T22:53:45.845093Z",
          "iopub.status.idle": "2023-07-29T22:54:06.123350Z",
          "shell.execute_reply.started": "2023-07-29T22:53:45.845049Z",
          "shell.execute_reply": "2023-07-29T22:54:06.122200Z"
        },
        "trusted": true,
        "id": "9DYN3oAL20xi",
        "outputId": "efb77229-9b37-429f-c56a-c73b63661430"
      },
      "execution_count": null,
      "outputs": [
        {
          "name": "stderr",
          "text": "/opt/conda/lib/python3.10/site-packages/torch/nn/parallel/_functions.py:68: UserWarning: Was asked to gather along dimension 0, but all input tensors were scalars; will instead unsqueeze and return a vector.\n  warnings.warn('Was asked to gather along dimension 0, but all '\n",
          "output_type": "stream"
        },
        {
          "output_type": "display_data",
          "data": {
            "text/plain": "<IPython.core.display.HTML object>",
            "text/html": ""
          },
          "metadata": {}
        }
      ]
    },
    {
      "cell_type": "code",
      "source": [
        "# Comparing the predicted labels with the actual labels\n",
        "for i in range(len(valid_labels)):\n",
        "    if pred_labels[i] != valid_labels[i]:\n",
        "        text = validation_df.iloc[i]['text']\n",
        "        hypothesis = validation_df.iloc[i]['hypothesis']\n",
        "        actual_label = label_mapping[valid_labels[i]]\n",
        "        pred_label = label_mapping[pred_labels[i]]\n",
        "        incorrect_preds_list.append({'Text': text, 'Hypothesis': hypothesis, 'Actual Label': actual_label, 'Predicted Label': pred_label})\n",
        "\n",
        "# Converting the list DataFrame\n",
        "incorrect_preds_df = pd.DataFrame(incorrect_preds_list)\n",
        "incorrect_preds_df"
      ],
      "metadata": {
        "execution": {
          "iopub.status.busy": "2023-07-29T22:55:21.651767Z",
          "iopub.execute_input": "2023-07-29T22:55:21.652171Z",
          "iopub.status.idle": "2023-07-29T22:55:21.722898Z",
          "shell.execute_reply.started": "2023-07-29T22:55:21.652129Z",
          "shell.execute_reply": "2023-07-29T22:55:21.721800Z"
        },
        "trusted": true,
        "id": "1RhQDlv620xj",
        "outputId": "afe0788a-7157-4ecc-a4dc-4937c04042d8"
      },
      "execution_count": null,
      "outputs": [
        {
          "execution_count": 77,
          "output_type": "execute_result",
          "data": {
            "text/plain": "                                                  Text  \\\n0    OISAIR PROJECT\\nTWO-WAY CONFIDENTIALITY AND NO...   \n1    OISAIR PROJECT\\nTWO-WAY CONFIDENTIALITY AND NO...   \n2    OISAIR PROJECT\\nTWO-WAY CONFIDENTIALITY AND NO...   \n3    OISAIR PROJECT\\nTWO-WAY CONFIDENTIALITY AND NO...   \n4    OISAIR PROJECT\\nTWO-WAY CONFIDENTIALITY AND NO...   \n..                                                 ...   \n284  NON-DISCLOSURE AGREEMENT\\n1. Introduction. Thi...   \n285  NON-DISCLOSURE AGREEMENT\\n1. Introduction. Thi...   \n286  NON-DISCLOSURE AGREEMENT\\n1. Introduction. Thi...   \n287  NON-DISCLOSURE AGREEMENT\\n1. Introduction. Thi...   \n288  Exhibit (e)(3)\\nMUTUAL NONDISCLOSURE AGREEMENT...   \n\n                                            Hypothesis   Actual Label  \\\n0    Receiving Party shall not reverse engineer any...     Entailment   \n1    Receiving Party shall destroy or return some C...     Entailment   \n2    All Confidential Information shall be expressl...     Entailment   \n3    Receiving Party may retain some Confidential I...     Entailment   \n4    Receiving Party may create a copy of some Conf...     Entailment   \n..                                                 ...            ...   \n284  Receiving Party may retain some Confidential I...   NotMentioned   \n285  Receiving Party may share some Confidential In...   NotMentioned   \n286  Receiving Party shall notify Disclosing Party ...   NotMentioned   \n287  Receiving Party shall not use any Confidential...   NotMentioned   \n288  Receiving Party shall not use any Confidential...  Contradiction   \n\n    Predicted Label  \n0      NotMentioned  \n1      NotMentioned  \n2     Contradiction  \n3     Contradiction  \n4      NotMentioned  \n..              ...  \n284      Entailment  \n285      Entailment  \n286      Entailment  \n287      Entailment  \n288      Entailment  \n\n[289 rows x 4 columns]",
            "text/html": "<div>\n<style scoped>\n    .dataframe tbody tr th:only-of-type {\n        vertical-align: middle;\n    }\n\n    .dataframe tbody tr th {\n        vertical-align: top;\n    }\n\n    .dataframe thead th {\n        text-align: right;\n    }\n</style>\n<table border=\"1\" class=\"dataframe\">\n  <thead>\n    <tr style=\"text-align: right;\">\n      <th></th>\n      <th>Text</th>\n      <th>Hypothesis</th>\n      <th>Actual Label</th>\n      <th>Predicted Label</th>\n    </tr>\n  </thead>\n  <tbody>\n    <tr>\n      <th>0</th>\n      <td>OISAIR PROJECT\\nTWO-WAY CONFIDENTIALITY AND NO...</td>\n      <td>Receiving Party shall not reverse engineer any...</td>\n      <td>Entailment</td>\n      <td>NotMentioned</td>\n    </tr>\n    <tr>\n      <th>1</th>\n      <td>OISAIR PROJECT\\nTWO-WAY CONFIDENTIALITY AND NO...</td>\n      <td>Receiving Party shall destroy or return some C...</td>\n      <td>Entailment</td>\n      <td>NotMentioned</td>\n    </tr>\n    <tr>\n      <th>2</th>\n      <td>OISAIR PROJECT\\nTWO-WAY CONFIDENTIALITY AND NO...</td>\n      <td>All Confidential Information shall be expressl...</td>\n      <td>Entailment</td>\n      <td>Contradiction</td>\n    </tr>\n    <tr>\n      <th>3</th>\n      <td>OISAIR PROJECT\\nTWO-WAY CONFIDENTIALITY AND NO...</td>\n      <td>Receiving Party may retain some Confidential I...</td>\n      <td>Entailment</td>\n      <td>Contradiction</td>\n    </tr>\n    <tr>\n      <th>4</th>\n      <td>OISAIR PROJECT\\nTWO-WAY CONFIDENTIALITY AND NO...</td>\n      <td>Receiving Party may create a copy of some Conf...</td>\n      <td>Entailment</td>\n      <td>NotMentioned</td>\n    </tr>\n    <tr>\n      <th>...</th>\n      <td>...</td>\n      <td>...</td>\n      <td>...</td>\n      <td>...</td>\n    </tr>\n    <tr>\n      <th>284</th>\n      <td>NON-DISCLOSURE AGREEMENT\\n1. Introduction. Thi...</td>\n      <td>Receiving Party may retain some Confidential I...</td>\n      <td>NotMentioned</td>\n      <td>Entailment</td>\n    </tr>\n    <tr>\n      <th>285</th>\n      <td>NON-DISCLOSURE AGREEMENT\\n1. Introduction. Thi...</td>\n      <td>Receiving Party may share some Confidential In...</td>\n      <td>NotMentioned</td>\n      <td>Entailment</td>\n    </tr>\n    <tr>\n      <th>286</th>\n      <td>NON-DISCLOSURE AGREEMENT\\n1. Introduction. Thi...</td>\n      <td>Receiving Party shall notify Disclosing Party ...</td>\n      <td>NotMentioned</td>\n      <td>Entailment</td>\n    </tr>\n    <tr>\n      <th>287</th>\n      <td>NON-DISCLOSURE AGREEMENT\\n1. Introduction. Thi...</td>\n      <td>Receiving Party shall not use any Confidential...</td>\n      <td>NotMentioned</td>\n      <td>Entailment</td>\n    </tr>\n    <tr>\n      <th>288</th>\n      <td>Exhibit (e)(3)\\nMUTUAL NONDISCLOSURE AGREEMENT...</td>\n      <td>Receiving Party shall not use any Confidential...</td>\n      <td>Contradiction</td>\n      <td>Entailment</td>\n    </tr>\n  </tbody>\n</table>\n<p>289 rows × 4 columns</p>\n</div>"
          },
          "metadata": {}
        }
      ]
    },
    {
      "cell_type": "markdown",
      "source": [
        "#### Investigating where the model mostly goes wrong"
      ],
      "metadata": {
        "id": "p1TArWhH20xk"
      }
    },
    {
      "cell_type": "code",
      "source": [
        "# create a cross tab between actual and predicted labels\n",
        "crosstab_df = pd.crosstab(incorrect_preds_df['Actual Label'], incorrect_preds_df['Predicted Label'])\n",
        "print(crosstab_df)"
      ],
      "metadata": {
        "execution": {
          "iopub.status.busy": "2023-07-29T22:55:25.397102Z",
          "iopub.execute_input": "2023-07-29T22:55:25.398329Z",
          "iopub.status.idle": "2023-07-29T22:55:25.432227Z",
          "shell.execute_reply.started": "2023-07-29T22:55:25.398283Z",
          "shell.execute_reply": "2023-07-29T22:55:25.431215Z"
        },
        "trusted": true,
        "id": "u5UPRx0b20xl",
        "outputId": "51e31048-7c91-4ac5-c01e-08e522dffd9d"
      },
      "execution_count": null,
      "outputs": [
        {
          "name": "stdout",
          "text": "Predicted Label  Contradiction  Entailment  NotMentioned\nActual Label                                            \nContradiction                0          25            22\nEntailment                  10           0           115\nNotMentioned                19          98             0\n",
          "output_type": "stream"
        }
      ]
    },
    {
      "cell_type": "markdown",
      "source": [
        " from the previous we can see that the model mostly goes wrong when\n",
        " * The Actual label was `NotMentioned` and predicted it as `Entailment`\n",
        " * The Actual label was `Entailment` and predicted it as `NotMentioned`\n",
        "\n",
        "\n",
        "so we can see that the model reverses everu Enatilment as NotMentioned and vice versa ."
      ],
      "metadata": {
        "id": "no6YuWp820xl"
      }
    },
    {
      "cell_type": "code",
      "source": [
        "# let's invesigate these cases and see first :The Actual label was NotMentioned and predicted it as Entailment\n",
        "case_1 = incorrect_preds_df[(incorrect_preds_df['Actual Label']== 'NotMentioned')& (incorrect_preds_df['Predicted Label']=='Entailment') ]\n"
      ],
      "metadata": {
        "execution": {
          "iopub.status.busy": "2023-07-29T22:55:29.006686Z",
          "iopub.execute_input": "2023-07-29T22:55:29.007178Z",
          "iopub.status.idle": "2023-07-29T22:55:29.017312Z",
          "shell.execute_reply.started": "2023-07-29T22:55:29.007131Z",
          "shell.execute_reply": "2023-07-29T22:55:29.015181Z"
        },
        "trusted": true,
        "id": "d28z44q820xl"
      },
      "execution_count": null,
      "outputs": []
    },
    {
      "cell_type": "code",
      "source": [
        "# visaluizing the distibuation of hypothesis lenght and Text length\n",
        "case_1_text_lengths = case_1[\"Text\"].str.len()\n",
        "case_1_Hypothesis_lengths = case_1[\"Hypothesis\"].str.len()\n",
        "\n",
        "fig, axs = plt.subplots(2, 1, figsize=(8, 12))\n",
        "\n",
        "axs[0].hist(case_1_text_lengths, bins=10)\n",
        "axs[0].set_title('Case 1 Text')\n",
        "axs[0].set_xlabel('Document Length')\n",
        "axs[0].set_ylabel('Frequency')\n",
        "\n",
        "axs[1].hist(case_1_Hypothesis_lengths, bins=10)\n",
        "axs[1].set_title('case 1 hypothesis')\n",
        "axs[1].set_xlabel('Hypothesis Length')\n",
        "axs[1].set_ylabel('Frequency')\n",
        "\n",
        "\n",
        "\n",
        "plt.show;"
      ],
      "metadata": {
        "execution": {
          "iopub.status.busy": "2023-07-29T22:55:31.837790Z",
          "iopub.execute_input": "2023-07-29T22:55:31.838208Z",
          "iopub.status.idle": "2023-07-29T22:55:32.467093Z",
          "shell.execute_reply.started": "2023-07-29T22:55:31.838172Z",
          "shell.execute_reply": "2023-07-29T22:55:32.465994Z"
        },
        "trusted": true,
        "id": "ycMyGhxV20xm",
        "outputId": "c4d67977-0d81-4bb1-feed-2af0b71ca943"
      },
      "execution_count": null,
      "outputs": [
        {
          "output_type": "display_data",
          "data": {
            "text/plain": "<Figure size 800x1200 with 2 Axes>",
            "image/png": "[encoded data removed]"
          },
          "metadata": {}
        }
      ]
    },
    {
      "cell_type": "markdown",
      "source": [
        "For the first case we can see that the most frequent text length for this error is around 5000 while the hypothese length of 80 and 120"
      ],
      "metadata": {
        "id": "5pgelhhR20xn"
      }
    },
    {
      "cell_type": "code",
      "source": [
        "# let's invesigate second :The Actual label was Entailment  and predicted it as  NotMentioned\n",
        "case_2 = incorrect_preds_df[(incorrect_preds_df['Actual Label']== 'Entailment')& (incorrect_preds_df['Predicted Label']=='NotMentioned') ]\n",
        "case_2"
      ],
      "metadata": {
        "execution": {
          "iopub.status.busy": "2023-07-29T22:55:36.013922Z",
          "iopub.execute_input": "2023-07-29T22:55:36.014336Z",
          "iopub.status.idle": "2023-07-29T22:55:36.043840Z",
          "shell.execute_reply.started": "2023-07-29T22:55:36.014303Z",
          "shell.execute_reply": "2023-07-29T22:55:36.041030Z"
        },
        "trusted": true,
        "id": "wf5eq8KI20xn",
        "outputId": "8ac33664-2c7f-4ea5-e372-92e093e35220"
      },
      "execution_count": null,
      "outputs": [
        {
          "execution_count": 81,
          "output_type": "execute_result",
          "data": {
            "text/plain": "                                                  Text  \\\n0    OISAIR PROJECT\\nTWO-WAY CONFIDENTIALITY AND NO...   \n1    OISAIR PROJECT\\nTWO-WAY CONFIDENTIALITY AND NO...   \n4    OISAIR PROJECT\\nTWO-WAY CONFIDENTIALITY AND NO...   \n6    NON-DISCLOSURE AGREEMENT\\nTHIS AGREEMENT is ma...   \n7    NON-DISCLOSURE AGREEMENT\\nTHIS AGREEMENT is ma...   \n..                                                 ...   \n268  Exhibit 99(d)(7)\\nNON-DISCLOSURE AGREEMENT\\nTh...   \n269  Exhibit 10.24\\nCONFIDENTIALITY AND NON-DISCLOS...   \n272  Exhibit 10.24\\nCONFIDENTIALITY AND NON-DISCLOS...   \n275  Exhibit (d)(5)\\nCONFIDENTIALITY AGREEMENT\\nDec...   \n278  Exhibit (d)(3)\\nNON-DISCLOSURE AGREEMENT\\nIn c...   \n\n                                            Hypothesis Actual Label  \\\n0    Receiving Party shall not reverse engineer any...   Entailment   \n1    Receiving Party shall destroy or return some C...   Entailment   \n4    Receiving Party may create a copy of some Conf...   Entailment   \n6    Receiving Party shall destroy or return some C...   Entailment   \n7    Receiving Party shall not disclose the fact th...   Entailment   \n..                                                 ...          ...   \n268  Receiving Party shall not solicit some of Disc...   Entailment   \n269  Receiving Party shall destroy or return some C...   Entailment   \n272  Receiving Party shall notify Disclosing Party ...   Entailment   \n275  Receiving Party shall notify Disclosing Party ...   Entailment   \n278  Receiving Party shall not reverse engineer any...   Entailment   \n\n    Predicted Label  \n0      NotMentioned  \n1      NotMentioned  \n4      NotMentioned  \n6      NotMentioned  \n7      NotMentioned  \n..              ...  \n268    NotMentioned  \n269    NotMentioned  \n272    NotMentioned  \n275    NotMentioned  \n278    NotMentioned  \n\n[115 rows x 4 columns]",
            "text/html": "<div>\n<style scoped>\n    .dataframe tbody tr th:only-of-type {\n        vertical-align: middle;\n    }\n\n    .dataframe tbody tr th {\n        vertical-align: top;\n    }\n\n    .dataframe thead th {\n        text-align: right;\n    }\n</style>\n<table border=\"1\" class=\"dataframe\">\n  <thead>\n    <tr style=\"text-align: right;\">\n      <th></th>\n      <th>Text</th>\n      <th>Hypothesis</th>\n      <th>Actual Label</th>\n      <th>Predicted Label</th>\n    </tr>\n  </thead>\n  <tbody>\n    <tr>\n      <th>0</th>\n      <td>OISAIR PROJECT\\nTWO-WAY CONFIDENTIALITY AND NO...</td>\n      <td>Receiving Party shall not reverse engineer any...</td>\n      <td>Entailment</td>\n      <td>NotMentioned</td>\n    </tr>\n    <tr>\n      <th>1</th>\n      <td>OISAIR PROJECT\\nTWO-WAY CONFIDENTIALITY AND NO...</td>\n      <td>Receiving Party shall destroy or return some C...</td>\n      <td>Entailment</td>\n      <td>NotMentioned</td>\n    </tr>\n    <tr>\n      <th>4</th>\n      <td>OISAIR PROJECT\\nTWO-WAY CONFIDENTIALITY AND NO...</td>\n      <td>Receiving Party may create a copy of some Conf...</td>\n      <td>Entailment</td>\n      <td>NotMentioned</td>\n    </tr>\n    <tr>\n      <th>6</th>\n      <td>NON-DISCLOSURE AGREEMENT\\nTHIS AGREEMENT is ma...</td>\n      <td>Receiving Party shall destroy or return some C...</td>\n      <td>Entailment</td>\n      <td>NotMentioned</td>\n    </tr>\n    <tr>\n      <th>7</th>\n      <td>NON-DISCLOSURE AGREEMENT\\nTHIS AGREEMENT is ma...</td>\n      <td>Receiving Party shall not disclose the fact th...</td>\n      <td>Entailment</td>\n      <td>NotMentioned</td>\n    </tr>\n    <tr>\n      <th>...</th>\n      <td>...</td>\n      <td>...</td>\n      <td>...</td>\n      <td>...</td>\n    </tr>\n    <tr>\n      <th>268</th>\n      <td>Exhibit 99(d)(7)\\nNON-DISCLOSURE AGREEMENT\\nTh...</td>\n      <td>Receiving Party shall not solicit some of Disc...</td>\n      <td>Entailment</td>\n      <td>NotMentioned</td>\n    </tr>\n    <tr>\n      <th>269</th>\n      <td>Exhibit 10.24\\nCONFIDENTIALITY AND NON-DISCLOS...</td>\n      <td>Receiving Party shall destroy or return some C...</td>\n      <td>Entailment</td>\n      <td>NotMentioned</td>\n    </tr>\n    <tr>\n      <th>272</th>\n      <td>Exhibit 10.24\\nCONFIDENTIALITY AND NON-DISCLOS...</td>\n      <td>Receiving Party shall notify Disclosing Party ...</td>\n      <td>Entailment</td>\n      <td>NotMentioned</td>\n    </tr>\n    <tr>\n      <th>275</th>\n      <td>Exhibit (d)(5)\\nCONFIDENTIALITY AGREEMENT\\nDec...</td>\n      <td>Receiving Party shall notify Disclosing Party ...</td>\n      <td>Entailment</td>\n      <td>NotMentioned</td>\n    </tr>\n    <tr>\n      <th>278</th>\n      <td>Exhibit (d)(3)\\nNON-DISCLOSURE AGREEMENT\\nIn c...</td>\n      <td>Receiving Party shall not reverse engineer any...</td>\n      <td>Entailment</td>\n      <td>NotMentioned</td>\n    </tr>\n  </tbody>\n</table>\n<p>115 rows × 4 columns</p>\n</div>"
          },
          "metadata": {}
        }
      ]
    },
    {
      "cell_type": "code",
      "source": [
        "# visaluizing the distibuation of hypothesis lenght and Text length\n",
        "case_2_text_lengths = case_2[\"Text\"].str.len()\n",
        "case_2_Hypothesis_lengths = case_2[\"Hypothesis\"].str.len()\n",
        "\n",
        "fig, axs = plt.subplots(2, 1, figsize=(8, 12))\n",
        "\n",
        "axs[0].hist(case_1_text_lengths, bins=10)\n",
        "axs[0].set_title('Case 2 Text')\n",
        "axs[0].set_xlabel('Document Length')\n",
        "axs[0].set_ylabel('Frequency')\n",
        "\n",
        "axs[1].hist(case_1_Hypothesis_lengths, bins=10)\n",
        "axs[1].set_title('case 2 hypothesis')\n",
        "axs[1].set_xlabel('Hypothesis Length')\n",
        "axs[1].set_ylabel('Frequency')\n",
        "\n",
        "\n",
        "\n",
        "plt.show;"
      ],
      "metadata": {
        "execution": {
          "iopub.status.busy": "2023-07-29T22:55:38.809799Z",
          "iopub.execute_input": "2023-07-29T22:55:38.810250Z",
          "iopub.status.idle": "2023-07-29T22:55:39.455176Z",
          "shell.execute_reply.started": "2023-07-29T22:55:38.810205Z",
          "shell.execute_reply": "2023-07-29T22:55:39.454025Z"
        },
        "trusted": true,
        "id": "olGJrXiB20xo",
        "outputId": "8860454d-f9be-4a66-aebd-c2bf59c21876"
      },
      "execution_count": null,
      "outputs": [
        {
          "output_type": "display_data",
          "data": {
            "text/plain": "<Figure size 800x1200 with 2 Axes>",
            "image/png": "[encoded data removed]"
          },
          "metadata": {}
        }
      ]
    },
    {
      "cell_type": "markdown",
      "source": [
        "We got the same numbers as for the first case so i belive that there is no thing replated either to the length of text or the length of hypothesis"
      ],
      "metadata": {
        "id": "UXOl2Fng20xp"
      }
    },
    {
      "cell_type": "markdown",
      "source": [
        "#### Finding where the model gets wrong : ALBert model\n"
      ],
      "metadata": {
        "id": "Y0UpgEmS20xp"
      }
    },
    {
      "cell_type": "code",
      "source": [
        "model_name = trainer_albert .model.__class__.__name__\n",
        "print(model_name)"
      ],
      "metadata": {
        "execution": {
          "iopub.status.busy": "2023-07-29T21:59:18.321473Z",
          "iopub.execute_input": "2023-07-29T21:59:18.322294Z",
          "iopub.status.idle": "2023-07-29T21:59:18.331569Z",
          "shell.execute_reply.started": "2023-07-29T21:59:18.322258Z",
          "shell.execute_reply": "2023-07-29T21:59:18.330174Z"
        },
        "trusted": true,
        "id": "5uT-t0eM20xq",
        "outputId": "cc5c271c-3595-4368-fc1c-5303c0779b19"
      },
      "execution_count": null,
      "outputs": [
        {
          "name": "stdout",
          "text": "AlbertForSequenceClassification\n",
          "output_type": "stream"
        }
      ]
    },
    {
      "cell_type": "code",
      "source": [
        "# Redefine the label mapping\n",
        "label_mapping = {0: \"NotMentioned\", 1: \"Entailment\", 2: \"Contradiction\"}"
      ],
      "metadata": {
        "execution": {
          "iopub.status.busy": "2023-07-29T22:00:35.023034Z",
          "iopub.execute_input": "2023-07-29T22:00:35.023428Z",
          "iopub.status.idle": "2023-07-29T22:00:35.031892Z",
          "shell.execute_reply.started": "2023-07-29T22:00:35.023400Z",
          "shell.execute_reply": "2023-07-29T22:00:35.029513Z"
        },
        "trusted": true,
        "id": "2CCf-vKN20xq"
      },
      "execution_count": null,
      "outputs": []
    },
    {
      "cell_type": "code",
      "source": [
        "# Getting the wrong preds\n",
        "incorrect_preds_list = []\n",
        "predictions, label_ids, metrics = trainer_albert.predict(valid_dataset)\n",
        "\n",
        "if len(predictions) == 0:\n",
        "    print(\"No predictions were made.\")\n",
        "else:\n",
        "    # Convert the label ids to numpy array\n",
        "    valid_labels = np.array([int(label_id) for label_id in label_ids])\n",
        "\n",
        "    # Get the predicted labels\n",
        "    pred_labels = np.argmax(predictions, axis=1)"
      ],
      "metadata": {
        "execution": {
          "iopub.status.busy": "2023-07-29T21:59:34.332317Z",
          "iopub.execute_input": "2023-07-29T21:59:34.333184Z",
          "iopub.status.idle": "2023-07-29T21:59:57.044527Z",
          "shell.execute_reply.started": "2023-07-29T21:59:34.333093Z",
          "shell.execute_reply": "2023-07-29T21:59:57.043342Z"
        },
        "trusted": true,
        "id": "gq3sFTlu20xr",
        "outputId": "5964a2a4-5ad5-426d-bbeb-fafbc246d988"
      },
      "execution_count": null,
      "outputs": [
        {
          "output_type": "display_data",
          "data": {
            "text/plain": "<IPython.core.display.HTML object>",
            "text/html": ""
          },
          "metadata": {}
        }
      ]
    },
    {
      "cell_type": "code",
      "source": [
        "# Comparing the predicted labels with the actual labels\n",
        "for i in range(len(valid_labels)):\n",
        "    if pred_labels[i] != valid_labels[i]:\n",
        "        text = validation_df.iloc[i]['text']\n",
        "        hypothesis = validation_df.iloc[i]['hypothesis']\n",
        "        actual_label = label_mapping[valid_labels[i]]\n",
        "        pred_label = label_mapping[pred_labels[i]]\n",
        "        incorrect_preds_list.append({'Text': text, 'Hypothesis': hypothesis, 'Actual Label': actual_label, 'Predicted Label': pred_label})\n",
        "\n",
        "# Converting the list DataFrame\n",
        "incorrect_preds_df = pd.DataFrame(incorrect_preds_list)\n",
        "incorrect_preds_df"
      ],
      "metadata": {
        "execution": {
          "iopub.status.busy": "2023-07-29T22:00:43.240574Z",
          "iopub.execute_input": "2023-07-29T22:00:43.240983Z",
          "iopub.status.idle": "2023-07-29T22:00:43.307424Z",
          "shell.execute_reply.started": "2023-07-29T22:00:43.240951Z",
          "shell.execute_reply": "2023-07-29T22:00:43.306328Z"
        },
        "trusted": true,
        "id": "-0qkPI2i20xr",
        "outputId": "b62fddfc-f3d0-4da1-92bf-492a03a0be53"
      },
      "execution_count": null,
      "outputs": [
        {
          "execution_count": 40,
          "output_type": "execute_result",
          "data": {
            "text/plain": "                                                  Text  \\\n0    OISAIR PROJECT\\nTWO-WAY CONFIDENTIALITY AND NO...   \n1    OISAIR PROJECT\\nTWO-WAY CONFIDENTIALITY AND NO...   \n2    OISAIR PROJECT\\nTWO-WAY CONFIDENTIALITY AND NO...   \n3    OISAIR PROJECT\\nTWO-WAY CONFIDENTIALITY AND NO...   \n4    OISAIR PROJECT\\nTWO-WAY CONFIDENTIALITY AND NO...   \n..                                                 ...   \n334  NON-DISCLOSURE AGREEMENT\\n1. Introduction. Thi...   \n335  Exhibit (e)(3)\\nMUTUAL NONDISCLOSURE AGREEMENT...   \n336  Exhibit (e)(3)\\nMUTUAL NONDISCLOSURE AGREEMENT...   \n337  Exhibit (e)(3)\\nMUTUAL NONDISCLOSURE AGREEMENT...   \n338  Exhibit (e)(3)\\nMUTUAL NONDISCLOSURE AGREEMENT...   \n\n                                            Hypothesis   Actual Label  \\\n0    Receiving Party shall not reverse engineer any...     Entailment   \n1    Receiving Party shall destroy or return some C...     Entailment   \n2    All Confidential Information shall be expressl...     Entailment   \n3    Confidential Information may include verbally ...     Entailment   \n4    Receiving Party may create a copy of some Conf...     Entailment   \n..                                                 ...            ...   \n334  Receiving Party shall not use any Confidential...   NotMentioned   \n335  Receiving Party shall destroy or return some C...   NotMentioned   \n336  Receiving Party shall not solicit some of Disc...   NotMentioned   \n337  Receiving Party may create a copy of some Conf...   NotMentioned   \n338  Receiving Party shall not use any Confidential...  Contradiction   \n\n    Predicted Label  \n0      NotMentioned  \n1      NotMentioned  \n2      NotMentioned  \n3      NotMentioned  \n4      NotMentioned  \n..              ...  \n334      Entailment  \n335      Entailment  \n336      Entailment  \n337      Entailment  \n338      Entailment  \n\n[339 rows x 4 columns]",
            "text/html": "<div>\n<style scoped>\n    .dataframe tbody tr th:only-of-type {\n        vertical-align: middle;\n    }\n\n    .dataframe tbody tr th {\n        vertical-align: top;\n    }\n\n    .dataframe thead th {\n        text-align: right;\n    }\n</style>\n<table border=\"1\" class=\"dataframe\">\n  <thead>\n    <tr style=\"text-align: right;\">\n      <th></th>\n      <th>Text</th>\n      <th>Hypothesis</th>\n      <th>Actual Label</th>\n      <th>Predicted Label</th>\n    </tr>\n  </thead>\n  <tbody>\n    <tr>\n      <th>0</th>\n      <td>OISAIR PROJECT\\nTWO-WAY CONFIDENTIALITY AND NO...</td>\n      <td>Receiving Party shall not reverse engineer any...</td>\n      <td>Entailment</td>\n      <td>NotMentioned</td>\n    </tr>\n    <tr>\n      <th>1</th>\n      <td>OISAIR PROJECT\\nTWO-WAY CONFIDENTIALITY AND NO...</td>\n      <td>Receiving Party shall destroy or return some C...</td>\n      <td>Entailment</td>\n      <td>NotMentioned</td>\n    </tr>\n    <tr>\n      <th>2</th>\n      <td>OISAIR PROJECT\\nTWO-WAY CONFIDENTIALITY AND NO...</td>\n      <td>All Confidential Information shall be expressl...</td>\n      <td>Entailment</td>\n      <td>NotMentioned</td>\n    </tr>\n    <tr>\n      <th>3</th>\n      <td>OISAIR PROJECT\\nTWO-WAY CONFIDENTIALITY AND NO...</td>\n      <td>Confidential Information may include verbally ...</td>\n      <td>Entailment</td>\n      <td>NotMentioned</td>\n    </tr>\n    <tr>\n      <th>4</th>\n      <td>OISAIR PROJECT\\nTWO-WAY CONFIDENTIALITY AND NO...</td>\n      <td>Receiving Party may create a copy of some Conf...</td>\n      <td>Entailment</td>\n      <td>NotMentioned</td>\n    </tr>\n    <tr>\n      <th>...</th>\n      <td>...</td>\n      <td>...</td>\n      <td>...</td>\n      <td>...</td>\n    </tr>\n    <tr>\n      <th>334</th>\n      <td>NON-DISCLOSURE AGREEMENT\\n1. Introduction. Thi...</td>\n      <td>Receiving Party shall not use any Confidential...</td>\n      <td>NotMentioned</td>\n      <td>Entailment</td>\n    </tr>\n    <tr>\n      <th>335</th>\n      <td>Exhibit (e)(3)\\nMUTUAL NONDISCLOSURE AGREEMENT...</td>\n      <td>Receiving Party shall destroy or return some C...</td>\n      <td>NotMentioned</td>\n      <td>Entailment</td>\n    </tr>\n    <tr>\n      <th>336</th>\n      <td>Exhibit (e)(3)\\nMUTUAL NONDISCLOSURE AGREEMENT...</td>\n      <td>Receiving Party shall not solicit some of Disc...</td>\n      <td>NotMentioned</td>\n      <td>Entailment</td>\n    </tr>\n    <tr>\n      <th>337</th>\n      <td>Exhibit (e)(3)\\nMUTUAL NONDISCLOSURE AGREEMENT...</td>\n      <td>Receiving Party may create a copy of some Conf...</td>\n      <td>NotMentioned</td>\n      <td>Entailment</td>\n    </tr>\n    <tr>\n      <th>338</th>\n      <td>Exhibit (e)(3)\\nMUTUAL NONDISCLOSURE AGREEMENT...</td>\n      <td>Receiving Party shall not use any Confidential...</td>\n      <td>Contradiction</td>\n      <td>Entailment</td>\n    </tr>\n  </tbody>\n</table>\n<p>339 rows × 4 columns</p>\n</div>"
          },
          "metadata": {}
        }
      ]
    },
    {
      "cell_type": "markdown",
      "source": [
        "#### Investigating where the model mostly goes wrong"
      ],
      "metadata": {
        "id": "p6kLnOaz20xs"
      }
    },
    {
      "cell_type": "code",
      "source": [
        "# create a cross tab between actual and predicted labels\n",
        "crosstab_df = pd.crosstab(incorrect_preds_df['Actual Label'], incorrect_preds_df['Predicted Label'])\n",
        "print(crosstab_df)"
      ],
      "metadata": {
        "execution": {
          "iopub.status.busy": "2023-07-29T22:01:41.218977Z",
          "iopub.execute_input": "2023-07-29T22:01:41.219966Z",
          "iopub.status.idle": "2023-07-29T22:01:41.254570Z",
          "shell.execute_reply.started": "2023-07-29T22:01:41.219929Z",
          "shell.execute_reply": "2023-07-29T22:01:41.253351Z"
        },
        "trusted": true,
        "id": "tUGIaY7Y20xs",
        "outputId": "f7867936-11ff-4992-f883-bffe5855b13d"
      },
      "execution_count": null,
      "outputs": [
        {
          "name": "stdout",
          "text": "Predicted Label  Contradiction  Entailment  NotMentioned\nActual Label                                            \nContradiction                0          33            20\nEntailment                   6           0            97\nNotMentioned                12         171             0\n",
          "output_type": "stream"
        }
      ]
    },
    {
      "cell_type": "markdown",
      "source": [
        " from the previous we can see that the model mostly goes wrong when\n",
        " * The Actual label was `NotMentioned` and predicted it as `Entailment`\n",
        " * The Actual label was `Entailment` and predicted it as `NotMentioned`\n",
        "\n",
        "\n",
        "so we can see that the model reverses everu Enatilment as NotMentioned and vice versa ."
      ],
      "metadata": {
        "id": "NSbn9MaG20xt"
      }
    },
    {
      "cell_type": "code",
      "source": [
        "# let's invesigate these cases and see first :The Actual label was NotMentioned and predicted it as Entailment\n",
        "case_1 = incorrect_preds_df[(incorrect_preds_df['Actual Label']== 'NotMentioned')& (incorrect_preds_df['Predicted Label']=='Entailment') ]\n"
      ],
      "metadata": {
        "execution": {
          "iopub.status.busy": "2023-07-29T22:03:23.469107Z",
          "iopub.execute_input": "2023-07-29T22:03:23.469549Z",
          "iopub.status.idle": "2023-07-29T22:03:23.479449Z",
          "shell.execute_reply.started": "2023-07-29T22:03:23.469515Z",
          "shell.execute_reply": "2023-07-29T22:03:23.477887Z"
        },
        "trusted": true,
        "id": "gO7b8H-Q20xt"
      },
      "execution_count": null,
      "outputs": []
    },
    {
      "cell_type": "code",
      "source": [
        "# visaluizing the distibuation of hypothesis lenght and Text length\n",
        "case_1_text_lengths = case_1[\"Text\"].str.len()\n",
        "case_1_Hypothesis_lengths = case_1[\"Hypothesis\"].str.len()\n",
        "\n",
        "fig, axs = plt.subplots(2, 1, figsize=(8, 12))\n",
        "\n",
        "axs[0].hist(case_1_text_lengths, bins=10)\n",
        "axs[0].set_title('Case 1 Text')\n",
        "axs[0].set_xlabel('Document Length')\n",
        "axs[0].set_ylabel('Frequency')\n",
        "\n",
        "axs[1].hist(case_1_Hypothesis_lengths, bins=10)\n",
        "axs[1].set_title('case 1 hypothesis')\n",
        "axs[1].set_xlabel('Hypothesis Length')\n",
        "axs[1].set_ylabel('Frequency')\n",
        "\n",
        "\n",
        "\n",
        "plt.show;"
      ],
      "metadata": {
        "execution": {
          "iopub.status.busy": "2023-07-29T22:03:42.175588Z",
          "iopub.execute_input": "2023-07-29T22:03:42.175969Z",
          "iopub.status.idle": "2023-07-29T22:03:42.795020Z",
          "shell.execute_reply.started": "2023-07-29T22:03:42.175930Z",
          "shell.execute_reply": "2023-07-29T22:03:42.793929Z"
        },
        "trusted": true,
        "id": "ZVZO0q8k20xu",
        "outputId": "600220d4-46e3-4071-c180-506d87b3fabc"
      },
      "execution_count": null,
      "outputs": [
        {
          "output_type": "display_data",
          "data": {
            "text/plain": "<Figure size 800x1200 with 2 Axes>",
            "image/png": "[encoded data removed]"
          },
          "metadata": {}
        }
      ]
    },
    {
      "cell_type": "markdown",
      "source": [
        "got almost the same results by Roberta model\n"
      ],
      "metadata": {
        "id": "lyj2CZsd20xu"
      }
    },
    {
      "cell_type": "code",
      "source": [
        "# let's invesigate second :The Actual label was Entailment  and predicted it as  NotMentioned\n",
        "case_2 = incorrect_preds_df[(incorrect_preds_df['Actual Label']== 'Entailment')& (incorrect_preds_df['Predicted Label']=='NotMentioned') ]\n",
        "case_2"
      ],
      "metadata": {
        "execution": {
          "iopub.status.busy": "2023-07-29T22:04:49.696292Z",
          "iopub.execute_input": "2023-07-29T22:04:49.696668Z",
          "iopub.status.idle": "2023-07-29T22:04:49.722335Z",
          "shell.execute_reply.started": "2023-07-29T22:04:49.696637Z",
          "shell.execute_reply": "2023-07-29T22:04:49.720549Z"
        },
        "trusted": true,
        "id": "NcOY_SGR20xu",
        "outputId": "a978c5e7-28d7-4ddd-ebca-fe4965210fee"
      },
      "execution_count": null,
      "outputs": [
        {
          "execution_count": 45,
          "output_type": "execute_result",
          "data": {
            "text/plain": "                                                  Text  \\\n0    OISAIR PROJECT\\nTWO-WAY CONFIDENTIALITY AND NO...   \n1    OISAIR PROJECT\\nTWO-WAY CONFIDENTIALITY AND NO...   \n2    OISAIR PROJECT\\nTWO-WAY CONFIDENTIALITY AND NO...   \n3    OISAIR PROJECT\\nTWO-WAY CONFIDENTIALITY AND NO...   \n4    OISAIR PROJECT\\nTWO-WAY CONFIDENTIALITY AND NO...   \n..                                                 ...   \n303  Exhibit 99(d)(7)\\nNON-DISCLOSURE AGREEMENT\\nTh...   \n305  Exhibit 10.24\\nCONFIDENTIALITY AND NON-DISCLOS...   \n318  Exhibit (d)(3)\\nNON-DISCLOSURE AGREEMENT\\nIn c...   \n321  Exhibit (e)(5)\\nMarch 17, 2010\\nFLIR Systems, ...   \n330  NON-DISCLOSURE AGREEMENT\\n1. Introduction. Thi...   \n\n                                            Hypothesis Actual Label  \\\n0    Receiving Party shall not reverse engineer any...   Entailment   \n1    Receiving Party shall destroy or return some C...   Entailment   \n2    All Confidential Information shall be expressl...   Entailment   \n3    Confidential Information may include verbally ...   Entailment   \n4    Receiving Party may create a copy of some Conf...   Entailment   \n..                                                 ...          ...   \n303  Receiving Party shall not solicit some of Disc...   Entailment   \n305  Receiving Party shall destroy or return some C...   Entailment   \n318  Receiving Party shall not reverse engineer any...   Entailment   \n321  Receiving Party shall destroy or return some C...   Entailment   \n330  Confidential Information may include verbally ...   Entailment   \n\n    Predicted Label  \n0      NotMentioned  \n1      NotMentioned  \n2      NotMentioned  \n3      NotMentioned  \n4      NotMentioned  \n..              ...  \n303    NotMentioned  \n305    NotMentioned  \n318    NotMentioned  \n321    NotMentioned  \n330    NotMentioned  \n\n[97 rows x 4 columns]",
            "text/html": "<div>\n<style scoped>\n    .dataframe tbody tr th:only-of-type {\n        vertical-align: middle;\n    }\n\n    .dataframe tbody tr th {\n        vertical-align: top;\n    }\n\n    .dataframe thead th {\n        text-align: right;\n    }\n</style>\n<table border=\"1\" class=\"dataframe\">\n  <thead>\n    <tr style=\"text-align: right;\">\n      <th></th>\n      <th>Text</th>\n      <th>Hypothesis</th>\n      <th>Actual Label</th>\n      <th>Predicted Label</th>\n    </tr>\n  </thead>\n  <tbody>\n    <tr>\n      <th>0</th>\n      <td>OISAIR PROJECT\\nTWO-WAY CONFIDENTIALITY AND NO...</td>\n      <td>Receiving Party shall not reverse engineer any...</td>\n      <td>Entailment</td>\n      <td>NotMentioned</td>\n    </tr>\n    <tr>\n      <th>1</th>\n      <td>OISAIR PROJECT\\nTWO-WAY CONFIDENTIALITY AND NO...</td>\n      <td>Receiving Party shall destroy or return some C...</td>\n      <td>Entailment</td>\n      <td>NotMentioned</td>\n    </tr>\n    <tr>\n      <th>2</th>\n      <td>OISAIR PROJECT\\nTWO-WAY CONFIDENTIALITY AND NO...</td>\n      <td>All Confidential Information shall be expressl...</td>\n      <td>Entailment</td>\n      <td>NotMentioned</td>\n    </tr>\n    <tr>\n      <th>3</th>\n      <td>OISAIR PROJECT\\nTWO-WAY CONFIDENTIALITY AND NO...</td>\n      <td>Confidential Information may include verbally ...</td>\n      <td>Entailment</td>\n      <td>NotMentioned</td>\n    </tr>\n    <tr>\n      <th>4</th>\n      <td>OISAIR PROJECT\\nTWO-WAY CONFIDENTIALITY AND NO...</td>\n      <td>Receiving Party may create a copy of some Conf...</td>\n      <td>Entailment</td>\n      <td>NotMentioned</td>\n    </tr>\n    <tr>\n      <th>...</th>\n      <td>...</td>\n      <td>...</td>\n      <td>...</td>\n      <td>...</td>\n    </tr>\n    <tr>\n      <th>303</th>\n      <td>Exhibit 99(d)(7)\\nNON-DISCLOSURE AGREEMENT\\nTh...</td>\n      <td>Receiving Party shall not solicit some of Disc...</td>\n      <td>Entailment</td>\n      <td>NotMentioned</td>\n    </tr>\n    <tr>\n      <th>305</th>\n      <td>Exhibit 10.24\\nCONFIDENTIALITY AND NON-DISCLOS...</td>\n      <td>Receiving Party shall destroy or return some C...</td>\n      <td>Entailment</td>\n      <td>NotMentioned</td>\n    </tr>\n    <tr>\n      <th>318</th>\n      <td>Exhibit (d)(3)\\nNON-DISCLOSURE AGREEMENT\\nIn c...</td>\n      <td>Receiving Party shall not reverse engineer any...</td>\n      <td>Entailment</td>\n      <td>NotMentioned</td>\n    </tr>\n    <tr>\n      <th>321</th>\n      <td>Exhibit (e)(5)\\nMarch 17, 2010\\nFLIR Systems, ...</td>\n      <td>Receiving Party shall destroy or return some C...</td>\n      <td>Entailment</td>\n      <td>NotMentioned</td>\n    </tr>\n    <tr>\n      <th>330</th>\n      <td>NON-DISCLOSURE AGREEMENT\\n1. Introduction. Thi...</td>\n      <td>Confidential Information may include verbally ...</td>\n      <td>Entailment</td>\n      <td>NotMentioned</td>\n    </tr>\n  </tbody>\n</table>\n<p>97 rows × 4 columns</p>\n</div>"
          },
          "metadata": {}
        }
      ]
    },
    {
      "cell_type": "code",
      "source": [
        "# visaluizing the distibuation of hypothesis lenght and Text length\n",
        "case_2_text_lengths = case_2[\"Text\"].str.len()\n",
        "case_2_Hypothesis_lengths = case_2[\"Hypothesis\"].str.len()\n",
        "\n",
        "fig, axs = plt.subplots(2, 1, figsize=(8, 12))\n",
        "\n",
        "axs[0].hist(case_1_text_lengths, bins=10)\n",
        "axs[0].set_title('Case 2 Text')\n",
        "axs[0].set_xlabel('Document Length')\n",
        "axs[0].set_ylabel('Frequency')\n",
        "\n",
        "axs[1].hist(case_1_Hypothesis_lengths, bins=10)\n",
        "axs[1].set_title('case 2 hypothesis')\n",
        "axs[1].set_xlabel('Hypothesis Length')\n",
        "axs[1].set_ylabel('Frequency')\n",
        "\n",
        "\n",
        "\n",
        "plt.show;"
      ],
      "metadata": {
        "execution": {
          "iopub.status.busy": "2023-07-29T22:05:12.611278Z",
          "iopub.execute_input": "2023-07-29T22:05:12.612213Z",
          "iopub.status.idle": "2023-07-29T22:05:13.193761Z",
          "shell.execute_reply.started": "2023-07-29T22:05:12.612165Z",
          "shell.execute_reply": "2023-07-29T22:05:13.192458Z"
        },
        "trusted": true,
        "id": "BvsmOl3x20xv",
        "outputId": "45086faf-4324-4afd-98fe-c81d12fa59ef"
      },
      "execution_count": null,
      "outputs": [
        {
          "output_type": "display_data",
          "data": {
            "text/plain": "<Figure size 800x1200 with 2 Axes>",
            "image/png": "[encoded data removed]"
          },
          "metadata": {}
        }
      ]
    },
    {
      "cell_type": "markdown",
      "source": [
        "Also the same as the previous model"
      ],
      "metadata": {
        "id": "DzHq11Pf20xw"
      }
    },
    {
      "cell_type": "markdown",
      "source": [
        "so the other aproach is to invesigate the first and last 5 hypotheses in both cases and see if there are any complex words"
      ],
      "metadata": {
        "id": "i86B8xXa20xw"
      }
    },
    {
      "cell_type": "code",
      "source": [
        "for i in range(10):\n",
        "    print(case_1['Hypothesis'].iloc[i])"
      ],
      "metadata": {
        "execution": {
          "iopub.status.busy": "2023-07-29T22:11:33.468544Z",
          "iopub.execute_input": "2023-07-29T22:11:33.468919Z",
          "iopub.status.idle": "2023-07-29T22:11:33.481002Z",
          "shell.execute_reply.started": "2023-07-29T22:11:33.468889Z",
          "shell.execute_reply": "2023-07-29T22:11:33.478244Z"
        },
        "trusted": true,
        "id": "wXp54l3J20xw",
        "outputId": "32291c26-4264-47a1-d8d9-b120d6fd8d19"
      },
      "execution_count": null,
      "outputs": [
        {
          "name": "stdout",
          "text": "Receiving Party shall notify Disclosing Party in case Receiving Party is required by law, regulation or judicial process to disclose any Confidential Information.\nReceiving Party may retain some Confidential Information even after the return or destruction of Confidential Information.\nAgreement shall not grant Receiving Party any right to Confidential Information.\nReceiving Party shall not disclose the fact that Agreement was agreed or negotiated.\nReceiving Party may retain some Confidential Information even after the return or destruction of Confidential Information.\nReceiving Party shall not solicit some of Disclosing Party's representatives.\nReceiving Party may create a copy of some Confidential Information in some circumstances.\nReceiving Party may acquire information similar to Confidential Information from a third party.\nAgreement shall not grant Receiving Party any right to Confidential Information.\nReceiving Party may retain some Confidential Information even after the return or destruction of Confidential Information.\n",
          "output_type": "stream"
        }
      ]
    },
    {
      "cell_type": "code",
      "source": [
        "for i in range(10):\n",
        "    print(case_2['Hypothesis'].iloc[i])"
      ],
      "metadata": {
        "execution": {
          "iopub.status.busy": "2023-07-29T22:11:44.144029Z",
          "iopub.execute_input": "2023-07-29T22:11:44.144789Z",
          "iopub.status.idle": "2023-07-29T22:11:44.158041Z",
          "shell.execute_reply.started": "2023-07-29T22:11:44.144753Z",
          "shell.execute_reply": "2023-07-29T22:11:44.156222Z"
        },
        "trusted": true,
        "id": "ulqmkzkB20xx",
        "outputId": "91aa378f-b146-406a-aa40-e3990a0896b3"
      },
      "execution_count": null,
      "outputs": [
        {
          "name": "stdout",
          "text": "Receiving Party shall not reverse engineer any objects which embody Disclosing Party's Confidential Information.\nReceiving Party shall destroy or return some Confidential Information upon the termination of Agreement.\nAll Confidential Information shall be expressly identified by the Disclosing Party.\nConfidential Information may include verbally conveyed information.\nReceiving Party may create a copy of some Confidential Information in some circumstances.\nReceiving Party shall destroy or return some Confidential Information upon the termination of Agreement.\nReceiving Party shall not disclose the fact that Agreement was agreed or negotiated.\nAll Confidential Information shall be expressly identified by the Disclosing Party.\nReceiving Party may independently develop information similar to Confidential Information.\nReceiving Party shall notify Disclosing Party in case Receiving Party is required by law, regulation or judicial process to disclose any Confidential Information.\n",
          "output_type": "stream"
        }
      ]
    },
    {
      "cell_type": "markdown",
      "source": [
        "#### Conclusions and summary\n",
        " I suggest that the model missclassifed the data in the following 2 cases for diffrent expectations:\n",
        "\n",
        "\n",
        " 1. The model may be suffred from overfitting to some patterns in the training dataset and cant generalize well\n",
        " 2.  Due to Language complexity as the langage in these sentences might me too complex and it's difficult for the model to classify them correclty for example if there are a certain Logical connections or relactioships between sentences that were stated implicitly couldn't be captured by the model without addiontial training dataset."
      ],
      "metadata": {
        "id": "FriL7CCJ20xx"
      }
    },
    {
      "cell_type": "markdown",
      "source": [
        "### 4- Recommendation Ideas"
      ],
      "metadata": {
        "id": "5UMFNZ_l20xy"
      }
    },
    {
      "cell_type": "markdown",
      "source": [
        "### To improve the performance of the previous models i recommend doing the following\n",
        "\n",
        "#### 1. using Ensemble of models :\n",
        "to combine the strengths of multiple models to improve overall performance. By training multiple models with different architectures, hyperparameters,we can capture a wider range of patterns and relationships in the language.\n",
        "\n",
        "#### 2. Use adversarial training :\n",
        "to train the mdoel on adversarial examples, which are input examples that are specifically designed to confuse the model and make it give incorrect predictions.so that we can improve its robustness to different forms of input noise or variations. and adversarial examples involves modifying the input sentences in subtle ways that change the logical relationships between them while still maintaining their semantic meaning."
      ],
      "metadata": {
        "id": "TX_wEU-a20xy"
      }
    }
  ]
}